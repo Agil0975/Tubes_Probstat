{
 "cells": [
  {
   "cell_type": "markdown",
   "metadata": {},
   "source": [
    "No. 1\n",
    "\n",
    "Menulis deskripsi statistika (Descriptive Statistics) dari semua kolom pada data. \n",
    "\n",
    "-- Data yang bersifat numerik dapat diberikan nilai:\n",
    "- mean\n",
    "- median\n",
    "- modus \n",
    "- standar deviasi\n",
    "- variansi\n",
    "- range\n",
    "- nilai minimum\n",
    "- nilai maksimum\n",
    "- kuartil\n",
    "- IQR\n",
    "- skewness\n",
    "- kurtosis. \n",
    "\n",
    "-- Data dalam bentuk string dapat dicari:\n",
    "- unique values dan proporsi nya."
   ]
  },
  {
   "cell_type": "code",
   "execution_count": null,
   "metadata": {},
   "outputs": [],
   "source": [
    "import pandas as pd\n",
    "%run util.py\n",
    "\n",
    "data = pd.read_csv(\"phone.csv\")"
   ]
  },
  {
   "cell_type": "markdown",
   "metadata": {},
   "source": [
    "# Data Numerik"
   ]
  },
  {
   "cell_type": "markdown",
   "metadata": {},
   "source": [
    "1. Atribut \"battery_power\""
   ]
  },
  {
   "cell_type": "code",
   "execution_count": null,
   "metadata": {},
   "outputs": [],
   "source": [
    "print(\"================================================\")\n",
    "print(\"|| Deskriptif Statistik atribut battery_power ||\")\n",
    "print(\"================================================\")\n",
    "print(\"Deskriptif Statistik | Fungsi Sendiri                 | Fungsi Library\")\n",
    "print(template.format(\"Mean\", myMean(\"battery_power\"), data[\"battery_power\"].mean()))\n",
    "print(template.format(\"Median\", myMedian(\"battery_power\"), data[\"battery_power\"].median()))\n",
    "print(template.format(\"Modus\", myModus(\"battery_power\"), data[\"battery_power\"].mode()[0]))\n",
    "print(template.format(\"Standar Deviasi\", myStdDev(\"battery_power\"), data[\"battery_power\"].std()))\n",
    "print(template.format(\"Variansi\", myVariance(\"battery_power\"), data[\"battery_power\"].var()))\n",
    "print(template.format(\"Range\", myRange(\"battery_power\"), data[\"battery_power\"].max() - data[\"battery_power\"].min()))\n",
    "print(template.format(\"Minimum\", myMin(\"battery_power\"), data[\"battery_power\"].min()))\n",
    "print(template.format(\"Maksimum\", myMax(\"battery_power\"), data[\"battery_power\"].max()))\n",
    "print(template.format(\"Q1\", myQ1(\"battery_power\"), data[\"battery_power\"].quantile(0.25)))\n",
    "print(template.format(\"Q3\", myQ3(\"battery_power\"), data[\"battery_power\"].quantile(0.75)))\n",
    "print(template.format(\"IQR\", myIQR(\"battery_power\"), data[\"battery_power\"].quantile(0.75) - data[\"battery_power\"].quantile(0.25)))\n",
    "print(template.format(\"Skewness\", mySkewness(\"battery_power\"), data[\"battery_power\"].skew()))\n",
    "print(template.format(\"Kurtosis\", myKurtosis(\"battery_power\"), data[\"battery_power\"].kurt()))"
   ]
  },
  {
   "cell_type": "markdown",
   "metadata": {},
   "source": [
    "2. Atribut \"clock_speed\""
   ]
  },
  {
   "cell_type": "code",
   "execution_count": null,
   "metadata": {},
   "outputs": [],
   "source": [
    "print(\"==============================================\")\n",
    "print(\"|| Deskriptif Statistik atribut clock_speed ||\")\n",
    "print(\"==============================================\")\n",
    "print(\"Deskriptif Statistik | Fungsi Sendiri                 | Fungsi Library\")\n",
    "print(template.format(\"Mean\", myMean(\"clock_speed\"), data[\"clock_speed\"].mean()))\n",
    "print(template.format(\"Median\", myMedian(\"clock_speed\"), data[\"clock_speed\"].median()))\n",
    "print(template.format(\"Modus\", myModus(\"clock_speed\"), data[\"clock_speed\"].mode()[0]))\n",
    "print(template.format(\"Standar Deviasi\", myStdDev(\"clock_speed\"), data[\"clock_speed\"].std()))\n",
    "print(template.format(\"Variansi\", myVariance(\"clock_speed\"), data[\"clock_speed\"].var()))\n",
    "print(template.format(\"Range\", myRange(\"clock_speed\"), data[\"clock_speed\"].max() - data[\"clock_speed\"].min()))\n",
    "print(template.format(\"Minimum\", myMin(\"clock_speed\"), data[\"clock_speed\"].min()))\n",
    "print(template.format(\"Maksimum\", myMax(\"clock_speed\"), data[\"clock_speed\"].max()))\n",
    "print(template.format(\"Q1\", myQ1(\"clock_speed\"), data[\"clock_speed\"].quantile(0.25)))\n",
    "print(template.format(\"Q3\", myQ3(\"clock_speed\"), data[\"clock_speed\"].quantile(0.75)))\n",
    "print(template.format(\"IQR\", myIQR(\"clock_speed\"), data[\"clock_speed\"].quantile(0.75) - data[\"clock_speed\"].quantile(0.25)))\n",
    "print(template.format(\"Skewness\", mySkewness(\"clock_speed\"), data[\"clock_speed\"].skew()))\n",
    "print(template.format(\"Kurtosis\", myKurtosis(\"clock_speed\"), data[\"clock_speed\"].kurt()))"
   ]
  },
  {
   "cell_type": "markdown",
   "metadata": {},
   "source": [
    "3. Atribut \"ram\""
   ]
  },
  {
   "cell_type": "code",
   "execution_count": null,
   "metadata": {},
   "outputs": [],
   "source": [
    "print(\"======================================\")\n",
    "print(\"|| Deskriptif Statistik atribut ram ||\")\n",
    "print(\"======================================\")\n",
    "print(\"Deskriptif Statistik | Fungsi Sendiri                 | Fungsi Library\")\n",
    "print(template.format(\"Mean\", myMean(\"ram\"), data[\"ram\"].mean()))\n",
    "print(template.format(\"Median\", myMedian(\"ram\"), data[\"ram\"].median()))\n",
    "print(template.format(\"Modus\", myModus(\"ram\"), data[\"ram\"].mode()[0]))\n",
    "print(template.format(\"Standar Deviasi\", myStdDev(\"ram\"), data[\"ram\"].std()))\n",
    "print(template.format(\"Variansi\", myVariance(\"ram\"), data[\"ram\"].var()))\n",
    "print(template.format(\"Range\", myRange(\"ram\"), data[\"ram\"].max() - data[\"ram\"].min()))\n",
    "print(template.format(\"Minimum\", myMin(\"ram\"), data[\"ram\"].min()))\n",
    "print(template.format(\"Maksimum\", myMax(\"ram\"), data[\"ram\"].max()))\n",
    "print(template.format(\"Q1\", myQ1(\"ram\"), data[\"ram\"].quantile(0.25)))\n",
    "print(template.format(\"Q3\", myQ3(\"ram\"), data[\"ram\"].quantile(0.75)))\n",
    "print(template.format(\"IQR\", myIQR(\"ram\"), data[\"ram\"].quantile(0.75) - data[\"ram\"].quantile(0.25)))\n",
    "print(template.format(\"Skewness\", mySkewness(\"ram\"), data[\"ram\"].skew()))\n",
    "print(template.format(\"Kurtosis\", myKurtosis(\"ram\"), data[\"ram\"].kurt()))"
   ]
  },
  {
   "cell_type": "markdown",
   "metadata": {},
   "source": [
    "4. Atribut \"n_cores\""
   ]
  },
  {
   "cell_type": "code",
   "execution_count": null,
   "metadata": {},
   "outputs": [],
   "source": [
    "print(\"==========================================\")\n",
    "print(\"|| Deskriptif Statistik atribut n_cores ||\")\n",
    "print(\"==========================================\")\n",
    "print(\"Deskriptif Statistik | Fungsi Sendiri                 | Fungsi Library\")\n",
    "print(template.format(\"Mean\", myMean(\"n_cores\"), data[\"n_cores\"].mean()))\n",
    "print(template.format(\"Median\", myMedian(\"n_cores\"), data[\"n_cores\"].median()))\n",
    "print(template.format(\"Modus\", myModus(\"n_cores\"), data[\"n_cores\"].mode()[0]))\n",
    "print(template.format(\"Standar Deviasi\", myStdDev(\"n_cores\"), data[\"n_cores\"].std()))\n",
    "print(template.format(\"Variansi\", myVariance(\"n_cores\"), data[\"n_cores\"].var()))\n",
    "print(template.format(\"Range\", myRange(\"n_cores\"), data[\"n_cores\"].max() - data[\"n_cores\"].min()))\n",
    "print(template.format(\"Minimum\", myMin(\"n_cores\"), data[\"n_cores\"].min()))\n",
    "print(template.format(\"Maksimum\", myMax(\"n_cores\"), data[\"n_cores\"].max()))\n",
    "print(template.format(\"Q1\", myQ1(\"n_cores\"), data[\"n_cores\"].quantile(0.25)))\n",
    "print(template.format(\"Q3\", myQ3(\"n_cores\"), data[\"n_cores\"].quantile(0.75)))\n",
    "print(template.format(\"IQR\", myIQR(\"n_cores\"), data[\"n_cores\"].quantile(0.75) - data[\"n_cores\"].quantile(0.25)))\n",
    "print(template.format(\"Skewness\", mySkewness(\"n_cores\"), data[\"n_cores\"].skew()))\n",
    "print(template.format(\"Kurtosis\", myKurtosis(\"n_cores\"), data[\"n_cores\"].kurt()))"
   ]
  },
  {
   "cell_type": "markdown",
   "metadata": {},
   "source": [
    "5. Atribut \"use_time\""
   ]
  },
  {
   "cell_type": "code",
   "execution_count": null,
   "metadata": {},
   "outputs": [],
   "source": [
    "print(\"===========================================\")\n",
    "print(\"|| Deskriptif Statistik atribut use_time ||\")\n",
    "print(\"===========================================\")\n",
    "print(\"Deskriptif Statistik | Fungsi Sendiri                 | Fungsi Library\")\n",
    "print(template.format(\"Mean\", myMean(\"use_time\"), data[\"use_time\"].mean()))\n",
    "print(template.format(\"Median\", myMedian(\"use_time\"), data[\"use_time\"].median()))\n",
    "print(template.format(\"Modus\", myModus(\"use_time\"), data[\"use_time\"].mode()[0]))\n",
    "print(template.format(\"Standar Deviasi\", myStdDev(\"use_time\"), data[\"use_time\"].std()))\n",
    "print(template.format(\"Variansi\", myVariance(\"use_time\"), data[\"use_time\"].var()))\n",
    "print(template.format(\"Range\", myRange(\"use_time\"), data[\"use_time\"].max() - data[\"use_time\"].min()))\n",
    "print(template.format(\"Minimum\", myMin(\"use_time\"), data[\"use_time\"].min()))\n",
    "print(template.format(\"Maksimum\", myMax(\"use_time\"), data[\"use_time\"].max()))\n",
    "print(template.format(\"Q1\", myQ1(\"use_time\"), data[\"use_time\"].quantile(0.25)))\n",
    "print(template.format(\"Q3\", myQ3(\"use_time\"), data[\"use_time\"].quantile(0.75)))\n",
    "print(template.format(\"IQR\", myIQR(\"use_time\"), data[\"use_time\"].quantile(0.75) - data[\"use_time\"].quantile(0.25)))\n",
    "print(template.format(\"Skewness\", mySkewness(\"use_time\"), data[\"use_time\"].skew()))\n",
    "print(template.format(\"Kurtosis\", myKurtosis(\"use_time\"), data[\"use_time\"].kurt()))"
   ]
  },
  {
   "cell_type": "markdown",
   "metadata": {},
   "source": [
    "6. Atribut \"px_width\""
   ]
  },
  {
   "cell_type": "code",
   "execution_count": null,
   "metadata": {},
   "outputs": [],
   "source": [
    "print(\"===========================================\")\n",
    "print(\"|| Deskriptif Statistik atribut px_width ||\")\n",
    "print(\"===========================================\")\n",
    "print(\"Deskriptif Statistik | Fungsi Sendiri                 | Fungsi Library\")\n",
    "print(template.format(\"Mean\", myMean(\"px_width\"), data[\"px_width\"].mean()))\n",
    "print(template.format(\"Median\", myMedian(\"px_width\"), data[\"px_width\"].median()))\n",
    "print(template.format(\"Modus\", myModus(\"px_width\"), data[\"px_width\"].mode()[0]))\n",
    "print(template.format(\"Standar Deviasi\", myStdDev(\"px_width\"), data[\"px_width\"].std()))\n",
    "print(template.format(\"Variansi\", myVariance(\"px_width\"), data[\"px_width\"].var()))\n",
    "print(template.format(\"Range\", myRange(\"px_width\"), data[\"px_width\"].max() - data[\"px_width\"].min()))\n",
    "print(template.format(\"Minimum\", myMin(\"px_width\"), data[\"px_width\"].min()))\n",
    "print(template.format(\"Maksimum\", myMax(\"px_width\"), data[\"px_width\"].max()))\n",
    "print(template.format(\"Q1\", myQ1(\"px_width\"), data[\"px_width\"].quantile(0.25)))\n",
    "print(template.format(\"Q3\", myQ3(\"px_width\"), data[\"px_width\"].quantile(0.75)))\n",
    "print(template.format(\"IQR\", myIQR(\"px_width\"), data[\"px_width\"].quantile(0.75) - data[\"px_width\"].quantile(0.25)))\n",
    "print(template.format(\"Skewness\", mySkewness(\"px_width\"), data[\"px_width\"].skew()))\n",
    "print(template.format(\"Kurtosis\", myKurtosis(\"px_width\"), data[\"px_width\"].kurt()))"
   ]
  },
  {
   "cell_type": "markdown",
   "metadata": {},
   "source": [
    "7. Atribut \"px_height\""
   ]
  },
  {
   "cell_type": "code",
   "execution_count": null,
   "metadata": {},
   "outputs": [],
   "source": [
    "print(\"============================================\")\n",
    "print(\"|| Deskriptif Statistik atribut px_height ||\")\n",
    "print(\"============================================\")\n",
    "print(\"Deskriptif Statistik | Fungsi Sendiri                 | Fungsi Library\")\n",
    "print(template.format(\"Mean\", myMean(\"px_height\"), data[\"px_height\"].mean()))\n",
    "print(template.format(\"Median\", myMedian(\"px_height\"), data[\"px_height\"].median()))\n",
    "print(template.format(\"Modus\", myModus(\"px_height\"), data[\"px_height\"].mode()[0]))\n",
    "print(template.format(\"Standar Deviasi\", myStdDev(\"px_height\"), data[\"px_height\"].std()))\n",
    "print(template.format(\"Variansi\", myVariance(\"px_height\"), data[\"px_height\"].var()))\n",
    "print(template.format(\"Range\", myRange(\"px_height\"), data[\"px_height\"].max() - data[\"px_height\"].min()))\n",
    "print(template.format(\"Minimum\", myMin(\"px_height\"), data[\"px_height\"].min()))\n",
    "print(template.format(\"Maksimum\", myMax(\"px_height\"), data[\"px_height\"].max()))\n",
    "print(template.format(\"Q1\", myQ1(\"px_height\"), data[\"px_height\"].quantile(0.25)))\n",
    "print(template.format(\"Q3\", myQ3(\"px_height\"), data[\"px_height\"].quantile(0.75)))\n",
    "print(template.format(\"IQR\", myIQR(\"px_height\"), data[\"px_height\"].quantile(0.75) - data[\"px_height\"].quantile(0.25)))\n",
    "print(template.format(\"Skewness\", mySkewness(\"px_height\"), data[\"px_height\"].skew()))\n",
    "print(template.format(\"Kurtosis\", myKurtosis(\"px_height\"), data[\"px_height\"].kurt()))"
   ]
  },
  {
   "cell_type": "markdown",
   "metadata": {},
   "source": [
    "8. Atribut \"5g\""
   ]
  },
  {
   "cell_type": "code",
   "execution_count": null,
   "metadata": {},
   "outputs": [],
   "source": [
    "print(\"=====================================\")\n",
    "print(\"|| Deskriptif Statistik atribut 5g ||\")\n",
    "print(\"=====================================\")\n",
    "print(\"Deskriptif Statistik | Fungsi Sendiri                 | Fungsi Library\")\n",
    "print(template.format(\"Mean\", myMean(\"5g\"), data[\"5g\"].mean()))\n",
    "print(template.format(\"Median\", myMedian(\"5g\"), data[\"5g\"].median()))\n",
    "print(template.format(\"Modus\", myModus(\"5g\"), data[\"5g\"].mode()[0]))\n",
    "print(template.format(\"Standar Deviasi\", myStdDev(\"5g\"), data[\"5g\"].std()))\n",
    "print(template.format(\"Variansi\", myVariance(\"5g\"), data[\"5g\"].var()))\n",
    "print(template.format(\"Range\", myRange(\"5g\"), data[\"5g\"].max() - data[\"5g\"].min()))\n",
    "print(template.format(\"Minimum\", myMin(\"5g\"), data[\"5g\"].min()))\n",
    "print(template.format(\"Maksimum\", myMax(\"5g\"), data[\"5g\"].max()))\n",
    "print(template.format(\"Q1\", myQ1(\"5g\"), data[\"5g\"].quantile(0.25)))\n",
    "print(template.format(\"Q3\", myQ3(\"5g\"), data[\"5g\"].quantile(0.75)))\n",
    "print(template.format(\"IQR\", myIQR(\"5g\"), data[\"5g\"].quantile(0.75) - data[\"5g\"].quantile(0.25)))\n",
    "print(template.format(\"Skewness\", mySkewness(\"5g\"), data[\"5g\"].skew()))\n",
    "print(template.format(\"Kurtosis\", myKurtosis(\"5g\"), data[\"5g\"].kurt()))"
   ]
  },
  {
   "cell_type": "markdown",
   "metadata": {},
   "source": [
    "9. Atribut \"price\""
   ]
  },
  {
   "cell_type": "code",
   "execution_count": null,
   "metadata": {},
   "outputs": [],
   "source": [
    "print(\"========================================\")\n",
    "print(\"|| Deskriptif Statistik atribut price ||\")\n",
    "print(\"========================================\")\n",
    "print(\"Deskriptif Statistik | Fungsi Sendiri                 | Fungsi Library\")\n",
    "print(template.format(\"Mean\", myMean(\"price\"), data[\"price\"].mean()))\n",
    "print(template.format(\"Median\", myMedian(\"price\"), data[\"price\"].median()))\n",
    "print(template.format(\"Modus\", myModus(\"price\"), data[\"price\"].mode()[0]))\n",
    "print(template.format(\"Standar Deviasi\", myStdDev(\"price\"), data[\"price\"].std()))\n",
    "print(template.format(\"Variansi\", myVariance(\"price\"), data[\"price\"].var()))\n",
    "print(template.format(\"Range\", myRange(\"price\"), data[\"price\"].max() - data[\"price\"].min()))\n",
    "print(template.format(\"Minimum\", myMin(\"price\"), data[\"price\"].min()))\n",
    "print(template.format(\"Maksimum\", myMax(\"price\"), data[\"price\"].max()))\n",
    "print(template.format(\"Q1\", myQ1(\"price\"), data[\"price\"].quantile(0.25)))\n",
    "print(template.format(\"Q3\", myQ3(\"price\"), data[\"price\"].quantile(0.75)))\n",
    "print(template.format(\"IQR\", myIQR(\"price\"), data[\"price\"].quantile(0.75) - data[\"price\"].quantile(0.25)))\n",
    "print(template.format(\"Skewness\", mySkewness(\"price\"), data[\"price\"].skew()))\n",
    "print(template.format(\"Kurtosis\", myKurtosis(\"price\"), data[\"price\"].kurt()))"
   ]
  },
  {
   "cell_type": "markdown",
   "metadata": {},
   "source": [
    "# Data Non-Numerik"
   ]
  },
  {
   "cell_type": "markdown",
   "metadata": {},
   "source": [
    "1. Atribut \"brand\""
   ]
  },
  {
   "cell_type": "code",
   "execution_count": null,
   "metadata": {},
   "outputs": [],
   "source": [
    "print(\"========================================\")\n",
    "print(\"|| Deskriptif Statistik atribut brand ||\")\n",
    "print(\"========================================\")\n",
    "print(data[\"brand\"].value_counts())"
   ]
  },
  {
   "cell_type": "markdown",
   "metadata": {},
   "source": [
    "1. Atribut \"grade\""
   ]
  },
  {
   "cell_type": "code",
   "execution_count": null,
   "metadata": {},
   "outputs": [],
   "source": [
    "print(\"========================================\")\n",
    "print(\"|| Deskriptif Statistik atribut grade ||\")\n",
    "print(\"========================================\")\n",
    "print(data[\"grade\"].value_counts())"
   ]
  }
 ],
 "metadata": {
  "kernelspec": {
   "display_name": "Python 3",
   "language": "python",
   "name": "python3"
  },
  "language_info": {
   "codemirror_mode": {
    "name": "ipython",
    "version": 3
   },
   "file_extension": ".py",
   "mimetype": "text/x-python",
   "name": "python",
   "nbconvert_exporter": "python",
   "pygments_lexer": "ipython3",
   "version": "3.12.0"
  }
 },
 "nbformat": 4,
 "nbformat_minor": 2
}
