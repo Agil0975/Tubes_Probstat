{
 "cells": [
  {
   "cell_type": "markdown",
   "metadata": {},
   "source": [
    "# No. 1 \n",
    "# Menulis deskripsi statistika (Descriptive Statistics) dari semua kolom pada data. \n",
    "1. Data yang bersifat numerik dapat diberikan nilai:\n",
    "    - mean\n",
    "    - median\n",
    "    - modus \n",
    "    - standar deviasi\n",
    "    - variansi\n",
    "    - range\n",
    "    - nilai minimum\n",
    "    - nilai maksimum\n",
    "    - kuartil\n",
    "    - IQR\n",
    "    - skewness\n",
    "    - kurtosis.\n",
    "\n",
    "2. Data dalam bentuk string dapat dicari:\n",
    "    - unique values dan proporsi nya."
   ]
  },
  {
   "cell_type": "code",
   "execution_count": 1,
   "metadata": {},
   "outputs": [],
   "source": [
    "import pandas as pd\n",
    "%run util.py"
   ]
  },
  {
   "cell_type": "markdown",
   "metadata": {},
   "source": [
    "## 1.1 Data Numerik"
   ]
  },
  {
   "cell_type": "markdown",
   "metadata": {},
   "source": [
    "1. Atribut \"battery_power\""
   ]
  },
  {
   "cell_type": "code",
   "execution_count": 2,
   "metadata": {},
   "outputs": [
    {
     "name": "stdout",
     "output_type": "stream",
     "text": [
      "================================================\n",
      "|| Deskriptif Statistik atribut battery_power ||\n",
      "================================================\n",
      "Deskriptif Statistik | Fungsi Sendiri                 | Fungsi Library\n",
      "Mean                 | 1920.8772990476155             | 1920.877299047615             \n",
      "Median               | 1922.3991535760729             | 1922.3991535760729            \n",
      "Modus                | 1908.9840881818127             | 1420.9542711910349            \n",
      "Standar Deviasi      | 136.27872001794873             | 136.27872001794896            \n",
      "Variansi             | 18571.889529730463             | 18571.88952973052             \n",
      "Range                | 981.0035468694759              | 981.0035468694759             \n",
      "Minimum              | 1420.9542711910349             | 1420.9542711910349            \n",
      "Maksimum             | 2401.957818060511              | 2401.957818060511             \n",
      "Q1                   | 1834.0146857852878             | 1834.0146857852878            \n",
      "Q3                   | 2011.2957129993915             | 2011.2957129993915            \n",
      "IQR                  | 177.2810272141037              | 177.2810272141037             \n",
      "Skewness             | -0.041290873700241294          | -0.041290873700231115         \n",
      "Kurtosis             | 0.22079221490429335            | 0.22079221490426937           \n"
     ]
    }
   ],
   "source": [
    "print(\"================================================\")\n",
    "print(\"|| Deskriptif Statistik atribut battery_power ||\")\n",
    "print(\"================================================\")\n",
    "printDescriptiveStatistics(DATA, \"battery_power\")"
   ]
  },
  {
   "cell_type": "markdown",
   "metadata": {},
   "source": [
    "2. Atribut \"clock_speed\""
   ]
  },
  {
   "cell_type": "code",
   "execution_count": 3,
   "metadata": {},
   "outputs": [
    {
     "name": "stdout",
     "output_type": "stream",
     "text": [
      "==============================================\n",
      "|| Deskriptif Statistik atribut clock_speed ||\n",
      "==============================================\n",
      "Deskriptif Statistik | Fungsi Sendiri                 | Fungsi Library\n",
      "Mean                 | 1.1026408758417092             | 1.1026408758417114            \n",
      "Median               | 1.1001990467038927             | 1.1001990467038927            \n",
      "Modus                | 1.2364119005429723             | 0.063078405199159             \n",
      "Standar Deviasi      | 0.300748425357641              | 0.300748425357641             \n",
      "Variansi             | 0.09044961535510056            | 0.09044961535510057           \n",
      "Range                | 2.0825614916762274             | 2.0825614916762274            \n",
      "Minimum              | 0.063078405199159              | 0.063078405199159             \n",
      "Maksimum             | 2.1456398968753865             | 2.1456398968753865            \n",
      "Q1                   | 0.902937801032792              | 0.902937801032792             \n",
      "Q3                   | 1.3081738056485592             | 1.3081738056485592            \n",
      "IQR                  | 0.40523600461576725            | 0.40523600461576725           \n",
      "Skewness             | -0.042814815777621876          | -0.042814815777644            \n",
      "Kurtosis             | 0.05061363195237334            | 0.05061363195237423           \n"
     ]
    }
   ],
   "source": [
    "print(\"==============================================\")\n",
    "print(\"|| Deskriptif Statistik atribut clock_speed ||\")\n",
    "print(\"==============================================\")\n",
    "printDescriptiveStatistics(DATA, \"clock_speed\")"
   ]
  },
  {
   "cell_type": "markdown",
   "metadata": {},
   "source": [
    "3. Atribut \"ram\""
   ]
  },
  {
   "cell_type": "code",
   "execution_count": 4,
   "metadata": {},
   "outputs": [
    {
     "name": "stdout",
     "output_type": "stream",
     "text": [
      "======================================\n",
      "|| Deskriptif Statistik atribut ram ||\n",
      "======================================\n",
      "Deskriptif Statistik | Fungsi Sendiri                 | Fungsi Library\n",
      "Mean                 | 6.051994470940331              | 6.051994470940324             \n",
      "Median               | 6.016747940727095              | 6.016747940727095             \n",
      "Modus                | 5.911000501158811              | -2.140214030869556            \n",
      "Standar Deviasi      | 2.010295820270809              | 2.0102958202708097            \n",
      "Variansi             | 4.041289284998285              | 4.041289284998288             \n",
      "Range                | 14.287584053417                | 14.287584053417               \n",
      "Minimum              | -2.140214030869556             | -2.140214030869556            \n",
      "Maksimum             | 12.147370022547443             | 12.147370022547443            \n",
      "Q1                   | 4.689993678034316              | 4.689993678034316             \n",
      "Q3                   | 7.413722745449254              | 7.413722745449254             \n",
      "IQR                  | 2.723729067414938              | 2.723729067414938             \n",
      "Skewness             | 0.06284812836998889            | 0.06284812836999946           \n",
      "Kurtosis             | -0.048518391732836896          | -0.048518391732835564         \n"
     ]
    }
   ],
   "source": [
    "print(\"======================================\")\n",
    "print(\"|| Deskriptif Statistik atribut ram ||\")\n",
    "print(\"======================================\")\n",
    "printDescriptiveStatistics(DATA, \"ram\")"
   ]
  },
  {
   "cell_type": "markdown",
   "metadata": {},
   "source": [
    "4. Atribut \"n_cores\""
   ]
  },
  {
   "cell_type": "code",
   "execution_count": 5,
   "metadata": {},
   "outputs": [
    {
     "name": "stdout",
     "output_type": "stream",
     "text": [
      "==========================================\n",
      "|| Deskriptif Statistik atribut n_cores ||\n",
      "==========================================\n",
      "Deskriptif Statistik | Fungsi Sendiri                 | Fungsi Library\n",
      "Mean                 | 12.044035453572313             | 12.044035453572324            \n",
      "Median               | 12.07260499492439              | 12.07260499492439             \n",
      "Modus                | 11.624320145002777             | 5.634702365004719             \n",
      "Standar Deviasi      | 2.2358057326312095             | 2.2358057326312086            \n",
      "Variansi             | 4.99882727406658               | 4.998827274066576             \n",
      "Range                | 16.556437671014166             | 16.556437671014166            \n",
      "Minimum              | 5.634702365004719              | 5.634702365004719             \n",
      "Maksimum             | 22.191140036018886             | 22.191140036018886            \n",
      "Q1                   | 10.56114058409092              | 10.56114058409092             \n",
      "Q3                   | 13.542861598885505             | 13.542861598885505            \n",
      "IQR                  | 2.9817210147945854             | 2.9817210147945854            \n",
      "Skewness             | 0.009754464244766807           | 0.009754464244752544          \n",
      "Kurtosis             | 0.015850858551011093           | 0.01585085855101065           \n"
     ]
    }
   ],
   "source": [
    "print(\"==========================================\")\n",
    "print(\"|| Deskriptif Statistik atribut n_cores ||\")\n",
    "print(\"==========================================\")\n",
    "printDescriptiveStatistics(DATA, \"n_cores\")"
   ]
  },
  {
   "cell_type": "markdown",
   "metadata": {},
   "source": [
    "5. Atribut \"use_time\""
   ]
  },
  {
   "cell_type": "code",
   "execution_count": 6,
   "metadata": {},
   "outputs": [
    {
     "name": "stdout",
     "output_type": "stream",
     "text": [
      "===========================================\n",
      "|| Deskriptif Statistik atribut use_time ||\n",
      "===========================================\n",
      "Deskriptif Statistik | Fungsi Sendiri                 | Fungsi Library\n",
      "Mean                 | 8.044158202059181              | 8.04415820205919              \n",
      "Median               | 8.033139141587238              | 8.033139141587238             \n",
      "Modus                | 7.454999514556015              | 3.994349605883557             \n",
      "Standar Deviasi      | 1.1841415296768525             | 1.1841415296768518            \n",
      "Variansi             | 1.402191162305436              | 1.4021911623054346            \n",
      "Range                | 7.861992592800824              | 7.861992592800824             \n",
      "Minimum              | 3.994349605883557              | 3.994349605883557             \n",
      "Maksimum             | 11.85634219868438              | 11.85634219868438             \n",
      "Q1                   | 7.2797262773924905             | 7.279726277392491             \n",
      "Q3                   | 8.869837243484831              | 8.869837243484831             \n",
      "IQR                  | 1.5901109660923405             | 1.5901109660923396            \n",
      "Skewness             | -0.0727574928664947            | -0.07275749286651731          \n",
      "Kurtosis             | 0.026640527518723367           | 0.026640527518730917          \n"
     ]
    }
   ],
   "source": [
    "print(\"===========================================\")\n",
    "print(\"|| Deskriptif Statistik atribut use_time ||\")\n",
    "print(\"===========================================\")\n",
    "printDescriptiveStatistics(DATA, \"use_time\")"
   ]
  },
  {
   "cell_type": "markdown",
   "metadata": {},
   "source": [
    "6. Atribut \"px_width\""
   ]
  },
  {
   "cell_type": "code",
   "execution_count": 7,
   "metadata": {},
   "outputs": [
    {
     "name": "stdout",
     "output_type": "stream",
     "text": [
      "===========================================\n",
      "|| Deskriptif Statistik atribut px_width ||\n",
      "===========================================\n",
      "Deskriptif Statistik | Fungsi Sendiri                 | Fungsi Library\n",
      "Mean                 | 728.7181924988778              | 728.7181924988772             \n",
      "Median               | 728.6538210654955              | 728.6538210654955             \n",
      "Modus                | 728.9587062886287              | 726.6733189233815             \n",
      "Standar Deviasi      | 0.7018060692593324             | 0.7018060692593312            \n",
      "Variansi             | 0.4925317588492349             | 0.4925317588492332            \n",
      "Range                | 4.728597910463577              | 4.728597910463577             \n",
      "Minimum              | 726.6733189233815              | 726.6733189233815             \n",
      "Maksimum             | 731.4019168338451              | 731.4019168338451             \n",
      "Q1                   | 728.2294591618888              | 728.2294591618888             \n",
      "Q3                   | 729.1771750289442              | 729.1771750289442             \n",
      "IQR                  | 0.9477158670554218             | 0.9477158670554218            \n",
      "Skewness             | 0.39263872721548826            | 0.3926387272179228            \n",
      "Kurtosis             | 0.03221688441536852            | 0.03221688441666526           \n"
     ]
    }
   ],
   "source": [
    "print(\"===========================================\")\n",
    "print(\"|| Deskriptif Statistik atribut px_width ||\")\n",
    "print(\"===========================================\")\n",
    "printDescriptiveStatistics(DATA, \"px_width\")"
   ]
  },
  {
   "cell_type": "markdown",
   "metadata": {},
   "source": [
    "7. Atribut \"px_height\""
   ]
  },
  {
   "cell_type": "code",
   "execution_count": 8,
   "metadata": {},
   "outputs": [
    {
     "name": "stdout",
     "output_type": "stream",
     "text": [
      "============================================\n",
      "|| Deskriptif Statistik atribut px_height ||\n",
      "============================================\n",
      "Deskriptif Statistik | Fungsi Sendiri                 | Fungsi Library\n",
      "Mean                 | 1035.2931016704463             | 1035.2931016704465            \n",
      "Median               | 1035.3665431636693             | 1035.3665431636693            \n",
      "Modus                | 1035.326384423871              | 1032.8233172912908            \n",
      "Standar Deviasi      | 0.7019602100652795             | 0.7019602100652803            \n",
      "Variansi             | 0.4927481365148914             | 0.4927481365148924            \n",
      "Range                | 4.686614634333409              | 4.686614634333409             \n",
      "Minimum              | 1032.8233172912908             | 1032.8233172912908            \n",
      "Maksimum             | 1037.5099319256242             | 1037.5099319256242            \n",
      "Q1                   | 1034.8643110353669             | 1034.8643110353669            \n",
      "Q3                   | 1035.792836686628              | 1035.792836686628             \n",
      "IQR                  | 0.928525651261225              | 0.928525651261225             \n",
      "Skewness             | -0.44662365588641934           | -0.4466236558873915           \n",
      "Kurtosis             | 0.1104034237128988             | 0.11040342371346101           \n"
     ]
    }
   ],
   "source": [
    "print(\"============================================\")\n",
    "print(\"|| Deskriptif Statistik atribut px_height ||\")\n",
    "print(\"============================================\")\n",
    "printDescriptiveStatistics(DATA, \"px_height\")"
   ]
  },
  {
   "cell_type": "markdown",
   "metadata": {},
   "source": [
    "8. Atribut \"5g\""
   ]
  },
  {
   "cell_type": "code",
   "execution_count": 9,
   "metadata": {},
   "outputs": [
    {
     "name": "stdout",
     "output_type": "stream",
     "text": [
      "=====================================\n",
      "|| Deskriptif Statistik atribut 5g ||\n",
      "=====================================\n",
      "Deskriptif Statistik | Fungsi Sendiri                 | Fungsi Library\n",
      "Mean                 | 0.5072242074609805             | 0.5072242074609808            \n",
      "Median               | 0.5093582029423042             | 0.5093582029423042            \n",
      "Modus                | 0.3832724137280113             | 0.0001472366748813            \n",
      "Standar Deviasi      | 0.28838551267495566            | 0.28838551267495544           \n",
      "Variansi             | 0.083166203920797              | 0.08316620392079688           \n",
      "Range                | 1.9998527633251186             | 1.9998527633251186            \n",
      "Minimum              | 0.0001472366748813             | 0.0001472366748813            \n",
      "Maksimum             | 2.0                            | 2.0                           \n",
      "Q1                   | 0.25593430691574526            | 0.25593430691574526           \n",
      "Q3                   | 0.7558490551730599             | 0.7558490551730598            \n",
      "IQR                  | 0.49991474825731463            | 0.4999147482573145            \n",
      "Skewness             | 0.058565529398142184           | 0.05856552939813875           \n",
      "Kurtosis             | -0.8721179773705159            | -0.8721179773705106           \n"
     ]
    }
   ],
   "source": [
    "print(\"=====================================\")\n",
    "print(\"|| Deskriptif Statistik atribut 5g ||\")\n",
    "print(\"=====================================\")\n",
    "printDescriptiveStatistics(DATA, \"5g\")"
   ]
  },
  {
   "cell_type": "markdown",
   "metadata": {},
   "source": [
    "9. Atribut \"price\""
   ]
  },
  {
   "cell_type": "code",
   "execution_count": 10,
   "metadata": {},
   "outputs": [
    {
     "name": "stdout",
     "output_type": "stream",
     "text": [
      "========================================\n",
      "|| Deskriptif Statistik atribut price ||\n",
      "========================================\n",
      "Deskriptif Statistik | Fungsi Sendiri                 | Fungsi Library\n",
      "Mean                 | 7964.742749642146              | 7964.7427496421515            \n",
      "Median               | 7983.607487574607              | 7983.607487574607             \n",
      "Modus                | 0.0                            | 0.0                           \n",
      "Standar Deviasi      | 2006.1502337432576             | 2006.150233743258             \n",
      "Variansi             | 4024638.7603481268             | 4024638.760348129             \n",
      "Range                | 15294.505979854552             | 15294.505979854552            \n",
      "Minimum              | -1.0                           | -1.0                          \n",
      "Maksimum             | 15293.505979854552             | 15293.505979854552            \n",
      "Q1                   | 6657.919039230956              | 6657.919039230956             \n",
      "Q3                   | 9247.301479188498              | 9247.301479188498             \n",
      "IQR                  | 2589.3824399575424             | 2589.3824399575424            \n",
      "Skewness             | -0.037485724564587874          | -0.03748572456459607          \n",
      "Kurtosis             | 0.2664740681949138             | 0.26647406819490804           \n"
     ]
    }
   ],
   "source": [
    "print(\"========================================\")\n",
    "print(\"|| Deskriptif Statistik atribut price ||\")\n",
    "print(\"========================================\")\n",
    "printDescriptiveStatistics(DATA, \"price\")"
   ]
  },
  {
   "cell_type": "markdown",
   "metadata": {},
   "source": [
    "## 1.2 Data Non-Numerik"
   ]
  },
  {
   "cell_type": "markdown",
   "metadata": {},
   "source": [
    "1. Atribut \"brand\""
   ]
  },
  {
   "cell_type": "code",
   "execution_count": 11,
   "metadata": {},
   "outputs": [
    {
     "name": "stdout",
     "output_type": "stream",
     "text": [
      "========================================\n",
      "|| Deskriptif Statistik atribut brand ||\n",
      "========================================\n",
      "brand\n",
      "sumseng      675\n",
      "oranye       478\n",
      "largeyou     425\n",
      "appa         419\n",
      "undefined      3\n",
      "Name: count, dtype: int64\n"
     ]
    }
   ],
   "source": [
    "print(\"========================================\")\n",
    "print(\"|| Deskriptif Statistik atribut brand ||\")\n",
    "print(\"========================================\")\n",
    "print(DATA[\"brand\"].value_counts())"
   ]
  },
  {
   "cell_type": "markdown",
   "metadata": {},
   "source": [
    "1. Atribut \"grade\""
   ]
  },
  {
   "cell_type": "code",
   "execution_count": 12,
   "metadata": {},
   "outputs": [
    {
     "name": "stdout",
     "output_type": "stream",
     "text": [
      "========================================\n",
      "|| Deskriptif Statistik atribut grade ||\n",
      "========================================\n",
      "grade\n",
      "A    693\n",
      "B    683\n",
      "C    624\n",
      "Name: count, dtype: int64\n"
     ]
    }
   ],
   "source": [
    "print(\"========================================\")\n",
    "print(\"|| Deskriptif Statistik atribut grade ||\")\n",
    "print(\"========================================\")\n",
    "print(DATA[\"grade\"].value_counts())"
   ]
  }
 ],
 "metadata": {
  "kernelspec": {
   "display_name": "Python 3",
   "language": "python",
   "name": "python3"
  },
  "language_info": {
   "codemirror_mode": {
    "name": "ipython",
    "version": 3
   },
   "file_extension": ".py",
   "mimetype": "text/x-python",
   "name": "python",
   "nbconvert_exporter": "python",
   "pygments_lexer": "ipython3",
   "version": "3.12.0"
  }
 },
 "nbformat": 4,
 "nbformat_minor": 2
}
