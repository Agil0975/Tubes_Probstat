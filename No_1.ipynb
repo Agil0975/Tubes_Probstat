{
 "cells": [
  {
   "cell_type": "markdown",
   "metadata": {},
   "source": [
    "# No. 1 \n",
    "# Menulis deskripsi statistika (Descriptive Statistics) dari semua kolom pada data. \n",
    "1. Data yang bersifat numerik dapat diberikan nilai:\n",
    "    - mean\n",
    "    - median\n",
    "    - modus \n",
    "    - standar deviasi\n",
    "    - variansi\n",
    "    - range\n",
    "    - nilai minimum\n",
    "    - nilai maksimum\n",
    "    - kuartil\n",
    "    - IQR\n",
    "    - skewness\n",
    "    - kurtosis.\n",
    "\n",
    "2. Data dalam bentuk string dapat dicari:\n",
    "    - unique values dan proporsi nya."
   ]
  },
  {
   "cell_type": "code",
   "execution_count": null,
   "metadata": {},
   "outputs": [],
   "source": [
    "import pandas as pd\n",
    "%run util.py"
   ]
  },
  {
   "cell_type": "markdown",
   "metadata": {},
   "source": [
    "## 1.1 Data Numerik"
   ]
  },
  {
   "cell_type": "markdown",
   "metadata": {},
   "source": [
    "1. Atribut \"battery_power\""
   ]
  },
  {
   "cell_type": "code",
   "execution_count": null,
   "metadata": {},
   "outputs": [],
   "source": [
    "print(\"================================================\")\n",
    "print(\"|| Deskriptif Statistik atribut battery_power ||\")\n",
    "print(\"================================================\")\n",
    "printDescriptiveStatistics(DATA, \"battery_power\")"
   ]
  },
  {
   "cell_type": "markdown",
   "metadata": {},
   "source": [
    "2. Atribut \"clock_speed\""
   ]
  },
  {
   "cell_type": "code",
   "execution_count": null,
   "metadata": {},
   "outputs": [],
   "source": [
    "print(\"==============================================\")\n",
    "print(\"|| Deskriptif Statistik atribut clock_speed ||\")\n",
    "print(\"==============================================\")\n",
    "printDescriptiveStatistics(DATA, \"clock_speed\")"
   ]
  },
  {
   "cell_type": "markdown",
   "metadata": {},
   "source": [
    "3. Atribut \"ram\""
   ]
  },
  {
   "cell_type": "code",
   "execution_count": null,
   "metadata": {},
   "outputs": [],
   "source": [
    "print(\"======================================\")\n",
    "print(\"|| Deskriptif Statistik atribut ram ||\")\n",
    "print(\"======================================\")\n",
    "printDescriptiveStatistics(DATA, \"ram\")"
   ]
  },
  {
   "cell_type": "markdown",
   "metadata": {},
   "source": [
    "4. Atribut \"n_cores\""
   ]
  },
  {
   "cell_type": "code",
   "execution_count": null,
   "metadata": {},
   "outputs": [],
   "source": [
    "print(\"==========================================\")\n",
    "print(\"|| Deskriptif Statistik atribut n_cores ||\")\n",
    "print(\"==========================================\")\n",
    "printDescriptiveStatistics(DATA, \"n_cores\")"
   ]
  },
  {
   "cell_type": "markdown",
   "metadata": {},
   "source": [
    "5. Atribut \"use_time\""
   ]
  },
  {
   "cell_type": "code",
   "execution_count": null,
   "metadata": {},
   "outputs": [],
   "source": [
    "print(\"===========================================\")\n",
    "print(\"|| Deskriptif Statistik atribut use_time ||\")\n",
    "print(\"===========================================\")\n",
    "printDescriptiveStatistics(DATA, \"use_time\")"
   ]
  },
  {
   "cell_type": "markdown",
   "metadata": {},
   "source": [
    "6. Atribut \"px_width\""
   ]
  },
  {
   "cell_type": "code",
   "execution_count": null,
   "metadata": {},
   "outputs": [],
   "source": [
    "print(\"===========================================\")\n",
    "print(\"|| Deskriptif Statistik atribut px_width ||\")\n",
    "print(\"===========================================\")\n",
    "printDescriptiveStatistics(DATA, \"px_width\")"
   ]
  },
  {
   "cell_type": "markdown",
   "metadata": {},
   "source": [
    "7. Atribut \"px_height\""
   ]
  },
  {
   "cell_type": "code",
   "execution_count": null,
   "metadata": {},
   "outputs": [],
   "source": [
    "print(\"============================================\")\n",
    "print(\"|| Deskriptif Statistik atribut px_height ||\")\n",
    "print(\"============================================\")\n",
    "printDescriptiveStatistics(DATA, \"px_height\")"
   ]
  },
  {
   "cell_type": "markdown",
   "metadata": {},
   "source": [
    "8. Atribut \"5g\""
   ]
  },
  {
   "cell_type": "code",
   "execution_count": null,
   "metadata": {},
   "outputs": [],
   "source": [
    "print(\"=====================================\")\n",
    "print(\"|| Deskriptif Statistik atribut 5g ||\")\n",
    "print(\"=====================================\")\n",
    "printDescriptiveStatistics(DATA, \"5g\")"
   ]
  },
  {
   "cell_type": "markdown",
   "metadata": {},
   "source": [
    "9. Atribut \"price\""
   ]
  },
  {
   "cell_type": "code",
   "execution_count": null,
   "metadata": {},
   "outputs": [],
   "source": [
    "print(\"========================================\")\n",
    "print(\"|| Deskriptif Statistik atribut price ||\")\n",
    "print(\"========================================\")\n",
    "printDescriptiveStatistics(DATA, \"price\")"
   ]
  },
  {
   "cell_type": "markdown",
   "metadata": {},
   "source": [
    "## 1.2 Data Non-Numerik"
   ]
  },
  {
   "cell_type": "markdown",
   "metadata": {},
   "source": [
    "1. Atribut \"brand\""
   ]
  },
  {
   "cell_type": "code",
   "execution_count": null,
   "metadata": {},
   "outputs": [],
   "source": [
    "print(\"========================================\")\n",
    "print(\"|| Deskriptif Statistik atribut brand ||\")\n",
    "print(\"========================================\")\n",
    "print(DATA[\"brand\"].value_counts())"
   ]
  },
  {
   "cell_type": "markdown",
   "metadata": {},
   "source": [
    "1. Atribut \"grade\""
   ]
  },
  {
   "cell_type": "code",
   "execution_count": null,
   "metadata": {},
   "outputs": [],
   "source": [
    "print(\"========================================\")\n",
    "print(\"|| Deskriptif Statistik atribut grade ||\")\n",
    "print(\"========================================\")\n",
    "print(DATA[\"grade\"].value_counts())"
   ]
  }
 ],
 "metadata": {
  "kernelspec": {
   "display_name": "Python 3",
   "language": "python",
   "name": "python3"
  },
  "language_info": {
   "codemirror_mode": {
    "name": "ipython",
    "version": 3
   },
   "file_extension": ".py",
   "mimetype": "text/x-python",
   "name": "python",
   "nbconvert_exporter": "python",
   "pygments_lexer": "ipython3",
   "version": "3.12.0"
  }
 },
 "nbformat": 4,
 "nbformat_minor": 2
}
