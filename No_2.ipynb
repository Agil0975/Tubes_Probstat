{
 "cells": [
  {
   "cell_type": "markdown",
   "metadata": {},
   "source": [
    "No. 2\n",
    "- Apakah pada data tersebut terdapat outlier? \n",
    "- Jika ya, dapatkah anda menanganinya? \n",
    "- Jelaskan apa yang umumnya dilakukan untuk menangani outlier!"
   ]
  },
  {
   "cell_type": "markdown",
   "metadata": {},
   "source": [
    "# 1. Apakah pada data tersebut terdapat outlier? \n",
    "Untuk mengecek apakah terdapat outlier atau tidak, bisa digunakan beberapa metode, seperti Z-Score, IQR (Interquartile Range), dan lainnya. Pada persoalan ini, akan digunakan metode IQR\n",
    "\n",
    "Dalam metode IQR, suatu data dianggap sebagai outlier jika data tersebut kurang dari Q1 - 1.5 IQR atau lebih dari Q3 + 1.5 IQR.\n",
    "Dalam hal ini batas bawah adalah Q1 - 1.5 IQR dan batas atas adalah Q3 + 1.5 IQR.\n"
   ]
  },
  {
   "cell_type": "code",
   "execution_count": null,
   "metadata": {},
   "outputs": [],
   "source": [
    "import pandas as pd\n",
    "import matplotlib.pyplot as plt\n",
    "%run util.py"
   ]
  },
  {
   "cell_type": "code",
   "execution_count": null,
   "metadata": {},
   "outputs": [],
   "source": [
    "def get_outliers(data, atribut):\n",
    "    Q1 = myQ1(data, atribut)\n",
    "    Q3 = myQ3(data, atribut)\n",
    "    IQR = Q3 - Q1\n",
    "    lower_bound = Q1 - 1.5 * IQR\n",
    "    upper_bound = Q3 + 1.5 * IQR\n",
    "\n",
    "    return data[(data[atribut] < lower_bound) | (data[atribut] > upper_bound)]"
   ]
  },
  {
   "cell_type": "code",
   "execution_count": null,
   "metadata": {},
   "outputs": [],
   "source": [
    "print(\"Outliers in battery_power:\")\n",
    "print(\"Banyak outliers: \", len(get_outliers(DATA, \"battery_power\")))\n",
    "print(\"No      battery_power\")\n",
    "print(get_outliers(DATA, \"battery_power\")[\"battery_power\"])\n",
    "\n",
    "# Visualisasi boxplot\n",
    "plt.figure()\n",
    "DATA.boxplot(column=['battery_power'])\n",
    "plt.title('Battery Power Box Plot')"
   ]
  },
  {
   "cell_type": "code",
   "execution_count": null,
   "metadata": {},
   "outputs": [],
   "source": [
    "print(\"Outliers in clock_speed:\")\n",
    "print(\"Banyak outliers: \", len(get_outliers(DATA, \"clock_speed\")))\n",
    "print(\"No      clock_speed\")\n",
    "print(get_outliers(DATA, \"clock_speed\")[\"clock_speed\"])\n",
    "\n",
    "# Visualisasi boxplot\n",
    "plt.figure()\n",
    "DATA.boxplot(column=['clock_speed'])\n",
    "plt.title('Clock Speed Box Plot')"
   ]
  },
  {
   "cell_type": "code",
   "execution_count": null,
   "metadata": {},
   "outputs": [],
   "source": [
    "print(\"Outliers in ram:\")\n",
    "print(\"Banyak outliers: \", len(get_outliers(DATA, \"ram\")))\n",
    "print(\"No      ram\")\n",
    "print(get_outliers(DATA, \"ram\")[\"ram\"])\n",
    "\n",
    "# Visualisasi boxplot\n",
    "plt.figure()\n",
    "DATA.boxplot(column=['ram'])\n",
    "plt.title('Ram Box Plot')"
   ]
  },
  {
   "cell_type": "code",
   "execution_count": null,
   "metadata": {},
   "outputs": [],
   "source": [
    "print(\"Outliers in n_cores:\")\n",
    "print(\"Banyak outliers: \", len(get_outliers(DATA, \"n_cores\")))\n",
    "print(\"No      n_cores\")\n",
    "print(get_outliers(DATA, \"n_cores\")[\"n_cores\"])\n",
    "\n",
    "# Visualisasi boxplot\n",
    "plt.figure()\n",
    "DATA.boxplot(column=['n_cores'])\n",
    "plt.title('N Cores Box Plot')"
   ]
  },
  {
   "cell_type": "code",
   "execution_count": null,
   "metadata": {},
   "outputs": [],
   "source": [
    "print(\"Outliers in use_time:\")\n",
    "print(\"Banyak outliers: \", len(get_outliers(DATA, \"use_time\")))\n",
    "print(\"No      use_time\")\n",
    "print(get_outliers(DATA, \"use_time\")[\"use_time\"])\n",
    "\n",
    "# Visualisasi boxplot\n",
    "plt.figure()\n",
    "DATA.boxplot(column=['use_time'])\n",
    "plt.title('Use Time Box Plot')"
   ]
  },
  {
   "cell_type": "code",
   "execution_count": null,
   "metadata": {},
   "outputs": [],
   "source": [
    "print(\"Outliers in px_width:\")\n",
    "print(\"Banyak outliers: \", len(get_outliers(DATA, \"px_width\")))\n",
    "print(\"No      px_width\")\n",
    "print(get_outliers(DATA, \"px_width\")[\"px_width\"])\n",
    "\n",
    "# Visualisasi boxplot\n",
    "plt.figure()\n",
    "DATA.boxplot(column=['px_width'])\n",
    "plt.title('Pixel Width Box Plot')"
   ]
  },
  {
   "cell_type": "code",
   "execution_count": null,
   "metadata": {},
   "outputs": [],
   "source": [
    "print(\"Outliers in px_height:\")\n",
    "print(\"Banyak outliers: \", len(get_outliers(DATA, \"px_height\")))\n",
    "print(\"No      px_height\")\n",
    "print(get_outliers(DATA, \"px_height\")[\"px_height\"])\n",
    "\n",
    "# Visualisasi boxplot\n",
    "plt.figure()\n",
    "DATA.boxplot(column=['px_height'])\n",
    "plt.title('Pixel height Box Plot')"
   ]
  },
  {
   "cell_type": "code",
   "execution_count": null,
   "metadata": {},
   "outputs": [],
   "source": [
    "print(\"Outliers in 5g:\")\n",
    "print(\"Banyak outliers: \", len(get_outliers(DATA, \"5g\")))\n",
    "print(\"No     5g\")\n",
    "print(get_outliers(DATA, \"5g\")[\"5g\"])\n",
    "\n",
    "# Visualisasi boxplot\n",
    "plt.figure()\n",
    "DATA.boxplot(column=['5g'])\n",
    "plt.title('5G Box Plot')"
   ]
  },
  {
   "cell_type": "code",
   "execution_count": null,
   "metadata": {},
   "outputs": [],
   "source": [
    "print(\"Outliers in price:\")\n",
    "print(\"Banyak outliers: \", len(get_outliers(DATA, \"price\")))\n",
    "print(\"No      price\")\n",
    "print(get_outliers(DATA, \"price\")[\"price\"])\n",
    "\n",
    "# Visualisasi boxplot\n",
    "plt.figure()\n",
    "DATA.boxplot(column=['price'])\n",
    "plt.title('Price Box Plot')"
   ]
  },
  {
   "cell_type": "markdown",
   "metadata": {},
   "source": [
    "# 2. Jika ya, dapatkah anda menanganinya? \n",
    "Ya, outlier dapat ditangani. Salah satu bentuk penanganan outlier adalah dengan metode imputasi nilai, yaitu dengan mengubah nilai outlier menjadi nilai yang lebih masuk akal, seperti mean, median, atau modus.\n",
    "\n",
    "Dalam persoalan kali ini, nilai outliers akan diubah menjadi median dari data tempat outlier tersebut berada. Tujuannya adalah agar tidak ada data yang hilang sehingga tidak mempengaruhi pengolahan data selanjutnya. Selain itu, median dipilih karena nilai median tidak terlalu dipengaruhi oleh outlier, sehingga penggantian nilai outlier menjadi median tidak akan mempengaruhi median dari himpunan data tempat outlier tersebut berada."
   ]
  },
  {
   "cell_type": "code",
   "execution_count": null,
   "metadata": {},
   "outputs": [],
   "source": [
    "def changeOutliers(data, atribut):\n",
    "    # Mengganti outliers dengan nilai median\n",
    "    Q1 = myQ1(data, atribut)\n",
    "    Q3 = myQ3(data, atribut)\n",
    "    IQR = Q3 - Q1\n",
    "    lower_bound = Q1 - 1.5 * IQR\n",
    "    upper_bound = Q3 + 1.5 * IQR\n",
    "\n",
    "    data.loc[(data[atribut] < lower_bound) | (data[atribut] > upper_bound), atribut] = data[atribut].median()\n",
    "    return data\n"
   ]
  },
  {
   "cell_type": "code",
   "execution_count": null,
   "metadata": {},
   "outputs": [],
   "source": [
    "# Mengganti outliers dengan nilai median\n",
    "DATA = changeOutliers(DATA, \"battery_power\")\n",
    "DATA = changeOutliers(DATA, \"clock_speed\")\n",
    "DATA = changeOutliers(DATA, \"ram\")\n",
    "DATA = changeOutliers(DATA, \"n_cores\")\n",
    "DATA = changeOutliers(DATA, \"use_time\")\n",
    "DATA = changeOutliers(DATA, \"px_width\")\n",
    "DATA = changeOutliers(DATA, \"px_height\")\n",
    "DATA = changeOutliers(DATA, \"5g\")\n",
    "DATA = changeOutliers(DATA, \"price\")"
   ]
  },
  {
   "cell_type": "markdown",
   "metadata": {},
   "source": [
    "# 3. Jelaskan apa yang umumnya dilakukan untuk menangani outlier!\n",
    "\n",
    "Ada beberapa metode yang umum digunakan untuk mengatasi outlier:\n",
    "\n",
    "1. Penghapusan: Salah satu metode untuk mengatasi outlier yang paling sederhana adalah dengan menghapus outlier tersebut dari himpunan data. Namun, pendekatan ini harus digunakan dengan hati-hati, karena penghapusan outlier dapat menyebabkan kehilangan informasi yang berharga dan memengaruhi validitas analisis.\n",
    "\n",
    "2. Transformasi Data: Transformasi data, seperti logaritma atau akar kuadrat, dapat digunakan untuk mengurangi dampak outlier dan membuat distribusi data lebih simetris. Transformasi Logaritmik digunakan jika data memiliki distribusi yang skewed (condong). Transformasi logaritmik dapat mengurangi efek outliers. Transformasi akar kuadrat digunakan untuk meredam outliers dengan cara yang mirip dengan transformasi logaritmik tetapi dengan pendekatan berbeda.\n",
    "\n",
    "3. Winsorizing: Mengubah nilai outliers ke nilai yang lebih dekat dengan data lainnya. Misalnya, jika outliers teridentifikasi, mereka dapat diubah menjadi nilai yang sesuai dengan persentil tertentu (misalnya, 5% atau 95%).\n",
    "\n",
    "4. Imputasi Nilai: Imputasi nilai melibatkan penggantian nilai outlier dengan nilai yang dianggap lebih representatif dari himpunan data, misalnya nilai rata-rata atau median.\n",
    "\n",
    "5. Penggunaan Model Statistik yang Tahan Terhadap Outlier: Beberapa model statistik, seperti regresi robust atau regresi quantil, dirancang untuk menangani outlier dengan lebih baik daripada model konvensional.\n",
    "\n",
    "6. Pengelompokan Data: Mengelompokkan data ke dalam kelompok-kelompok homogen dapat membantu dalam mengurangi dampak outlier. Metode clustering seperti k-means clustering atau hierarchical clustering dapat digunakan untuk tujuan ini.\n",
    "\n",
    "7. Penanganan Khusus Berdasarkan Domain: Dalam beberapa kasus, penanganan outliers dapat disesuaikan dengan pengetahuan domain atau konteks spesifik. Misalnya, dalam data keuangan, outliers mungkin mencerminkan kejadian langka tetapi penting dan harus dipertimbangkan dalam analisis."
   ]
  }
 ],
 "metadata": {
  "kernelspec": {
   "display_name": "Python 3",
   "language": "python",
   "name": "python3"
  },
  "language_info": {
   "codemirror_mode": {
    "name": "ipython",
    "version": 3
   },
   "file_extension": ".py",
   "mimetype": "text/x-python",
   "name": "python",
   "nbconvert_exporter": "python",
   "pygments_lexer": "ipython3",
   "version": "3.12.0"
  }
 },
 "nbformat": 4,
 "nbformat_minor": 2
}
