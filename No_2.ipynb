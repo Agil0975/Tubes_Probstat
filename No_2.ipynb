{
 "cells": [
  {
   "cell_type": "markdown",
   "metadata": {},
   "source": [
    "No. 2\n",
    "- Apakah pada data tersebut terdapat outlier? \n",
    "- Jika ya, dapatkah anda menanganinya? \n",
    "- Jelaskan apa yang umumnya dilakukan untuk menangani outlier!"
   ]
  },
  {
   "cell_type": "code",
   "execution_count": null,
   "metadata": {},
   "outputs": [],
   "source": [
    "import pandas as pd\n",
    "data = pd.read_csv(\"phone.csv\")"
   ]
  }
 ],
 "metadata": {
  "language_info": {
   "name": "python"
  }
 },
 "nbformat": 4,
 "nbformat_minor": 2
}
