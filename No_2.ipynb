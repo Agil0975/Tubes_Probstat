{
 "cells": [
  {
   "cell_type": "markdown",
   "metadata": {},
   "source": [
    "No. 2\n",
    "- Apakah pada data tersebut terdapat outlier? \n",
    "- Jika ya, dapatkah anda menanganinya? \n",
    "- Jelaskan apa yang umumnya dilakukan untuk menangani outlier!"
   ]
  },
  {
   "cell_type": "markdown",
   "metadata": {},
   "source": [
    "# 1. Apakah pada data tersebut terdapat outlier? \n",
    "Untuk mengecek apakah terdapat outlier atau tidak, bisa digunakan beberapa metode, seperti Z-Score, IQR (Interquartile Range), dan lainnya. Pada persoalan ini, akan digunakan metode IQR\n",
    "\n",
    "Dalam metode IQR, suatu data dianggap sebagai outlier jika data tersebut kurang dari Q1 - 1.5 IQR atau lebih dari Q3 + 1.5 IQR.\n",
    "Dalam hal ini batas bawah adalah Q1 - 1.5 IQR dan batas atas adalah Q3 + 1.5 IQR.\n"
   ]
  },
  {
   "cell_type": "code",
   "execution_count": null,
   "metadata": {},
   "outputs": [],
   "source": [
    "import pandas as pd\n",
    "%run util.py"
   ]
  },
  {
   "cell_type": "code",
   "execution_count": null,
   "metadata": {},
   "outputs": [],
   "source": [
    "def get_outliers(data, atribut):\n",
    "    Q1 = myQ1(data, atribut)\n",
    "    Q3 = myQ3(data, atribut)\n",
    "    IQR = Q3 - Q1\n",
    "    lower_bound = Q1 - 1.5 * IQR\n",
    "    upper_bound = Q3 + 1.5 * IQR\n",
    "\n",
    "    return data[(data[atribut] < lower_bound) | (data[atribut] > upper_bound)]"
   ]
  },
  {
   "cell_type": "code",
   "execution_count": null,
   "metadata": {},
   "outputs": [],
   "source": [
    "print(\"Outliers in battery_power:\")\n",
    "print(\"Banyak outliers: \", len(get_outliers(DATA, \"battery_power\")))\n",
    "print(get_outliers(DATA, \"battery_power\"))"
   ]
  },
  {
   "cell_type": "code",
   "execution_count": null,
   "metadata": {},
   "outputs": [],
   "source": [
    "print(\"Outliers in clock_speed:\")\n",
    "print(\"Banyak outliers: \", len(get_outliers(DATA, \"clock_speed\")))\n",
    "print(get_outliers(DATA, \"clock_speed\"))"
   ]
  },
  {
   "cell_type": "code",
   "execution_count": null,
   "metadata": {},
   "outputs": [],
   "source": [
    "print(\"Outliers in ram:\")\n",
    "print(\"Banyak outliers: \", len(get_outliers(DATA, \"ram\")))\n",
    "print(get_outliers(DATA, \"ram\"))"
   ]
  },
  {
   "cell_type": "code",
   "execution_count": null,
   "metadata": {},
   "outputs": [],
   "source": [
    "print(\"Outliers in n_cores:\")\n",
    "print(\"Banyak outliers: \", len(get_outliers(DATA, \"n_cores\")))\n",
    "print(get_outliers(DATA, \"n_cores\"))"
   ]
  },
  {
   "cell_type": "code",
   "execution_count": null,
   "metadata": {},
   "outputs": [],
   "source": [
    "print(\"Outliers in use_time:\")\n",
    "print(\"Banyak outliers: \", len(get_outliers(DATA, \"use_time\")))\n",
    "print(get_outliers(DATA, \"use_time\"))"
   ]
  },
  {
   "cell_type": "code",
   "execution_count": null,
   "metadata": {},
   "outputs": [],
   "source": [
    "print(\"Outliers in px_width:\")\n",
    "print(\"Banyak outliers: \", len(get_outliers(DATA, \"px_width\")))\n",
    "print(get_outliers(DATA, \"px_width\"))"
   ]
  },
  {
   "cell_type": "code",
   "execution_count": null,
   "metadata": {},
   "outputs": [],
   "source": [
    "print(\"Outliers in px_height:\")\n",
    "print(\"Banyak outliers: \", len(get_outliers(DATA, \"px_height\")))\n",
    "print(get_outliers(DATA, \"px_height\"))"
   ]
  },
  {
   "cell_type": "code",
   "execution_count": null,
   "metadata": {},
   "outputs": [],
   "source": [
    "print(\"Outliers in 5g:\")\n",
    "print(\"Banyak outliers: \", len(get_outliers(DATA, \"5g\")))\n",
    "print(get_outliers(DATA, \"5g\"))"
   ]
  },
  {
   "cell_type": "code",
   "execution_count": null,
   "metadata": {},
   "outputs": [],
   "source": [
    "print(\"Outliers in price:\")\n",
    "print(\"Banyak outliers: \", len(get_outliers(DATA, \"price\")))\n",
    "print(get_outliers(DATA, \"price\"))"
   ]
  },
  {
   "cell_type": "markdown",
   "metadata": {},
   "source": [
    "# 2. Jika ya, dapatkah anda menanganinya? \n",
    "Ya, outlier dapat ditangani. Salah satu bentuk penanganan outlier adalah dengan menghapusnya dari himpunan data. \n",
    "\n",
    "Outlier akan dilihat untuk masing-masing atribut, sehingga outlier pada atribut yang satu akan berbeda dengan atribut yang lain. Akibatnya data yang dihapus juga akan berbeda-beda tergantung atribut yang sedang dikaji pada waktu itu."
   ]
  },
  {
   "cell_type": "code",
   "execution_count": null,
   "metadata": {},
   "outputs": [],
   "source": [
    "def deleteOutliers(data, atribut):\n",
    "    Q1 = myQ1(data, atribut)\n",
    "    Q3 = myQ3(data, atribut)\n",
    "    IQR = Q3 - Q1\n",
    "    lower_bound = Q1 - 1.5 * IQR\n",
    "    upper_bound = Q3 + 1.5 * IQR\n",
    "\n",
    "    return data[(data[atribut] >= lower_bound) & (data[atribut] <= upper_bound)]"
   ]
  },
  {
   "cell_type": "code",
   "execution_count": null,
   "metadata": {},
   "outputs": [],
   "source": [
    "print(\"Outliers in battery_power:\")\n",
    "print(\"Banyak outliers: \", len(get_outliers(DATA, \"battery_power\")))\n",
    "print(\"Banyak data tanpa outliers: \", len(deleteOutliers(DATA, \"battery_power\")))\n",
    "print()\n",
    "\n",
    "print(\"Outliers in clock_speed:\")\n",
    "print(\"Banyak outliers: \", len(get_outliers(DATA, \"clock_speed\")))\n",
    "print(\"Banyak data tanpa outliers: \", len(deleteOutliers(DATA, \"clock_speed\")))\n",
    "print()\n",
    "\n",
    "print(\"Outliers in ram:\")\n",
    "print(\"Banyak outliers: \", len(get_outliers(DATA, \"ram\")))\n",
    "print(\"Banyak data tanpa outliers: \", len(deleteOutliers(DATA, \"ram\")))\n",
    "print()\n",
    "\n",
    "print(\"Outliers in n_cores:\")\n",
    "print(\"Banyak outliers: \", len(get_outliers(DATA, \"n_cores\")))\n",
    "print(\"Banyak data tanpa outliers: \", len(deleteOutliers(DATA, \"n_cores\")))\n",
    "print()\n",
    "\n",
    "print(\"Outliers in use_time:\")\n",
    "print(\"Banyak outliers: \", len(get_outliers(DATA, \"use_time\")))\n",
    "print(\"Banyak data tanpa outliers: \", len(deleteOutliers(DATA, \"use_time\")))\n",
    "print()\n",
    "\n",
    "print(\"Outliers in px_width:\")\n",
    "print(\"Banyak outliers: \", len(get_outliers(DATA, \"px_width\")))\n",
    "print(\"Banyak data tanpa outliers: \", len(deleteOutliers(DATA, \"px_width\")))\n",
    "print()\n",
    "\n",
    "print(\"Outliers in px_height:\")\n",
    "print(\"Banyak outliers: \", len(get_outliers(DATA, \"px_height\")))\n",
    "print(\"Banyak data tanpa outliers: \", len(deleteOutliers(DATA, \"px_height\")))\n",
    "print()\n",
    "\n",
    "print(\"Outliers in 5g:\")\n",
    "print(\"Banyak outliers: \", len(get_outliers(DATA, \"5g\")))\n",
    "print(\"Banyak data tanpa outliers: \", len(deleteOutliers(DATA, \"5g\")))\n",
    "print()\n",
    "\n",
    "print(\"Outliers in price:\")\n",
    "print(\"Banyak outliers: \", len(get_outliers(DATA, \"price\")))\n",
    "print(\"Banyak data tanpa outliers: \", len(deleteOutliers(DATA, \"price\")))\n",
    "print()"
   ]
  },
  {
   "cell_type": "markdown",
   "metadata": {},
   "source": [
    "# 3. Jelaskan apa yang umumnya dilakukan untuk menangani outlier!\n",
    "\n",
    "Ada beberapa metode yang umum digunakan untuk mengatasi outlier:\n",
    "\n",
    "1. Penghapusan: Salah satu pendekatan yang paling sederhana adalah dengan menghapus outlier dari himpunan data. Namun, pendekatan ini harus digunakan dengan hati-hati, karena penghapusan outlier dapat menyebabkan kehilangan informasi yang berharga dan memengaruhi validitas analisis.\n",
    "\n",
    "2. Transformasi Data: Transformasi data, seperti logaritma atau akar kuadrat, dapat digunakan untuk mengurangi dampak outlier dan membuat distribusi data lebih simetris.\n",
    "\n",
    "3. Imputasi Nilai: Imputasi nilai melibatkan menggantikan nilai outlier dengan nilai yang dianggap lebih representatif dari himpunan data, misalnya, nilai rata-rata atau median.\n",
    "\n",
    "4. Penggunaan Model Statistik yang Tahan Terhadap Outlier: Beberapa model statistik, seperti regresi robust atau regresi quantil, dirancang untuk menangani outlier dengan lebih baik daripada model konvensional.\n",
    "\n",
    "5. Pengelompokan Data: Mengelompokkan data ke dalam kelompok-kelompok homogen dapat membantu dalam mengurangi dampak outlier. Metode clustering seperti k-means clustering atau hierarchical clustering dapat digunakan untuk tujuan ini.\n",
    "\n",
    "(Dikutip dari https://medium.com/@muhamadqli/outlier-dalam-analisis-data-definisi-signifikansi-dan-cara-mengatasi-c7a63aa87793)"
   ]
  }
 ],
 "metadata": {
  "kernelspec": {
   "display_name": "Python 3",
   "language": "python",
   "name": "python3"
  },
  "language_info": {
   "codemirror_mode": {
    "name": "ipython",
    "version": 3
   },
   "file_extension": ".py",
   "mimetype": "text/x-python",
   "name": "python",
   "nbconvert_exporter": "python",
   "pygments_lexer": "ipython3",
   "version": "3.12.0"
  }
 },
 "nbformat": 4,
 "nbformat_minor": 2
}
