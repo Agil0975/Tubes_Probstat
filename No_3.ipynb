{
 "cells": [
  {
   "cell_type": "markdown",
   "metadata": {},
   "source": [
    "# No. 3 \n",
    "# Membuat Visualisasi plot distribusi. \n",
    "Berikan uraian penjelasan kondisi setiap kolom berdasarkan kedua plot tersebut.\n",
    "\n",
    "- Jika numerik dapat dibuat dalam bentuk histogram dan box plot.\n",
    "- Jika string dengan histogram. "
   ]
  },
  {
   "cell_type": "code",
   "execution_count": null,
   "metadata": {},
   "outputs": [],
   "source": [
    "import pandas as pd\n",
    "import matplotlib.pyplot as plt\n",
    "from scipy.stats import norm\n",
    "from scipy.stats import uniform\n",
    "from scipy.stats import gamma\n",
    "from scipy.stats import weibull_min\n",
    "import numpy as np\n",
    "%run util.py"
   ]
  },
  {
   "cell_type": "code",
   "execution_count": null,
   "metadata": {},
   "outputs": [],
   "source": [
    "def changeOutliers(data, atribut):\n",
    "    # Mengganti outliers dengan nilai median\n",
    "    Q1 = myQ1(data, atribut)\n",
    "    Q3 = myQ3(data, atribut)\n",
    "    IQR = Q3 - Q1\n",
    "    lower_bound = Q1 - 1.5 * IQR\n",
    "    upper_bound = Q3 + 1.5 * IQR\n",
    "\n",
    "    data.loc[(data[atribut] < lower_bound) | (data[atribut] > upper_bound), atribut] = data[atribut].median()\n",
    "    return data\n",
    "\n",
    "# Mengganti outliers dengan nilai median\n",
    "DATA = changeOutliers(DATA, \"battery_power\")\n",
    "DATA = changeOutliers(DATA, \"clock_speed\")\n",
    "DATA = changeOutliers(DATA, \"ram\")\n",
    "DATA = changeOutliers(DATA, \"n_cores\")\n",
    "DATA = changeOutliers(DATA, \"use_time\")\n",
    "DATA = changeOutliers(DATA, \"px_width\")\n",
    "DATA = changeOutliers(DATA, \"px_height\")\n",
    "DATA = changeOutliers(DATA, \"5g\")\n",
    "DATA = changeOutliers(DATA, \"price\")"
   ]
  },
  {
   "cell_type": "markdown",
   "metadata": {},
   "source": [
    "## 3.1 DATA NUMERIK"
   ]
  },
  {
   "cell_type": "code",
   "execution_count": null,
   "metadata": {},
   "outputs": [],
   "source": [
    "# HISTOGRAM\n",
    "DATA['battery_power'].hist(bins=20, density=True, histtype='bar', align='mid', color='skyblue')\n",
    "plt.xlabel('battery_power')\n",
    "plt.ylabel('Frequency')\n",
    "plt.title('Battery Power Histogram')\n",
    "\n",
    "# DISTRIBUSI\n",
    "mu, std = norm.fit(DATA['battery_power'])\n",
    "xmin, xmax = plt.xlim()\n",
    "x = np.linspace(xmin, xmax, 100)\n",
    "pdf = norm.pdf(x, mu, std)\n",
    "plt.plot(x, pdf, 'r-', linewidth=2, label='Normal Distribution')\n",
    "\n",
    "# BOXPLOT\n",
    "plt.figure()\n",
    "DATA.boxplot(column=['battery_power'])\n",
    "plt.title('Battery Power Box Plot')"
   ]
  },
  {
   "cell_type": "code",
   "execution_count": null,
   "metadata": {},
   "outputs": [],
   "source": [
    "# HISTOGRAM\n",
    "DATA['clock_speed'].hist(bins=20, density=True, histtype='bar', align='mid', color='skyblue')\n",
    "plt.xlabel('clock_speed')\n",
    "plt.ylabel('Frequency')\n",
    "plt.title('Clock Speed Histogram')\n",
    "\n",
    "# DISTRIBUSI\n",
    "mu, std = norm.fit(DATA['clock_speed'])\n",
    "xmin, xmax = plt.xlim()\n",
    "x = np.linspace(xmin, xmax, 100)\n",
    "pdf = norm.pdf(x, mu, std)\n",
    "plt.plot(x, pdf, 'r-', linewidth=2, label='Normal Distribution')\n",
    "\n",
    "# BOXPLOT\n",
    "plt.figure()\n",
    "DATA.boxplot(column=['clock_speed'])\n",
    "plt.title('Clock Speed Box Plot')"
   ]
  },
  {
   "cell_type": "code",
   "execution_count": null,
   "metadata": {},
   "outputs": [],
   "source": [
    "# HISTOGRAM\n",
    "DATA['ram'].hist(bins=20, density=True, histtype='bar', align='mid', color='skyblue')\n",
    "plt.xlabel('ram')\n",
    "plt.ylabel('Frequency')\n",
    "plt.title('Ram Histogram')\n",
    "\n",
    "# DISTRIBUSI\n",
    "shape, loc, scale = weibull_min.fit(DATA[\"ram\"])\n",
    "xmin, xmax = plt.xlim()\n",
    "x = np.linspace(xmin, xmax, 100)\n",
    "pdf = weibull_min.pdf(x, shape, loc=loc, scale=scale)\n",
    "plt.plot(x, pdf, 'r-', linewidth=2, label='Weibull Distribution')\n",
    "\n",
    "# BOXPLOT\n",
    "plt.figure()\n",
    "DATA.boxplot(column=['ram'])\n",
    "plt.title('Ram Box Plot')"
   ]
  },
  {
   "cell_type": "code",
   "execution_count": null,
   "metadata": {},
   "outputs": [],
   "source": [
    "# HISTOGRAM\n",
    "DATA['n_cores'].hist(bins=20, density=True, histtype='bar', align='mid', color='skyblue')\n",
    "plt.xlabel('n_cores')\n",
    "plt.ylabel('Frequency')\n",
    "plt.title('Core Histogram')\n",
    "\n",
    "# DISTRIBUSI\n",
    "mu, std = norm.fit(DATA['n_cores'])\n",
    "xmin, xmax = plt.xlim()\n",
    "x = np.linspace(xmin, xmax, 100)\n",
    "pdf = norm.pdf(x, mu, std)\n",
    "plt.plot(x, pdf, 'r-', linewidth=2, label='Normal Distribution')\n",
    "\n",
    "# BOXPLOT\n",
    "plt.figure()\n",
    "DATA.boxplot(column=['n_cores'])\n",
    "plt.title('Core Box Plot')"
   ]
  },
  {
   "cell_type": "code",
   "execution_count": null,
   "metadata": {},
   "outputs": [],
   "source": [
    "# HISTOGRAM\n",
    "DATA['use_time'].hist(bins=20, density=True, histtype='bar', align='mid', color='skyblue')\n",
    "plt.xlabel('use_time')\n",
    "plt.ylabel('Frequency')\n",
    "plt.title('Use Time Histogram')\n",
    "\n",
    "# DISTRIBUSI\n",
    "mu, std = norm.fit(DATA['use_time'])\n",
    "xmin, xmax = plt.xlim()\n",
    "x = np.linspace(xmin, xmax, 100)\n",
    "pdf = norm.pdf(x, mu, std)\n",
    "plt.plot(x, pdf, 'r-', linewidth=2, label='Normal Distribution')\n",
    "\n",
    "# BOXPLOT\n",
    "plt.figure()\n",
    "DATA.boxplot(column=['use_time'])\n",
    "plt.title('Use Time Box Plot')"
   ]
  },
  {
   "cell_type": "code",
   "execution_count": null,
   "metadata": {},
   "outputs": [],
   "source": [
    "# HISTOGRAM\n",
    "DATA['px_width'].hist(bins=20, density=True, histtype='bar', align='mid', color='skyblue')\n",
    "plt.xlabel('px_width')\n",
    "plt.ylabel('Frequency')\n",
    "plt.title('Pixel Width Histogram')\n",
    "\n",
    "# DISTRIBUSI\n",
    "shape, loc, scale = gamma.fit(DATA['px_width'])\n",
    "xmin, xmax = plt.xlim()\n",
    "x = np.linspace(xmin, xmax, 100)\n",
    "pdf = gamma.pdf(x, shape, loc=loc, scale=scale)\n",
    "plt.plot(x, pdf, 'r-', linewidth=2, label='Gamma Distribution')\n",
    "\n",
    "# BOXPLOT\n",
    "plt.figure()\n",
    "DATA.boxplot(column=['px_width'])\n",
    "plt.title('Pixel Width Box Plot')"
   ]
  },
  {
   "cell_type": "code",
   "execution_count": null,
   "metadata": {},
   "outputs": [],
   "source": [
    "# HISTOGRAM\n",
    "DATA['px_height'].hist(bins=20, density=True, histtype='bar', align='mid', color='skyblue')\n",
    "plt.xlabel('px_height')\n",
    "plt.ylabel('Frequency')\n",
    "plt.title('Pixel Height Histogram')\n",
    "\n",
    "# DISTRIBUSI\n",
    "shape, loc, scale = weibull_min.fit(DATA['px_height'])\n",
    "xmin, xmax = plt.xlim()\n",
    "x = np.linspace(xmin, xmax, 100)\n",
    "pdf = weibull_min.pdf(x, shape, loc=loc, scale=scale)\n",
    "plt.plot(x, pdf, 'r-', linewidth=2, label='Weibull Distribution')\n",
    "\n",
    "# BOXPLOT\n",
    "plt.figure()\n",
    "DATA.boxplot(column=['px_height'])\n",
    "plt.title('Pixel Height Box Plot')"
   ]
  },
  {
   "cell_type": "code",
   "execution_count": null,
   "metadata": {},
   "outputs": [],
   "source": [
    "# HISTOGRAM\n",
    "DATA['5g'].hist(bins=20, density=True, histtype='bar', align='mid', color='skyblue')\n",
    "plt.xlabel('5g')\n",
    "plt.ylabel('Frequency')\n",
    "plt.title('5G Histogram')\n",
    "\n",
    "# DISTRIBUSI\n",
    "xmin, xmax = plt.xlim()\n",
    "x = np.linspace(xmin, xmax, 100)\n",
    "pdf = uniform.pdf(x, xmin, xmax - xmin)\n",
    "plt.plot(x, pdf, 'r-', linewidth=2, label='Uniform Distribution')\n",
    "\n",
    "# BOXPLOT\n",
    "plt.figure()\n",
    "DATA.boxplot(column=['5g'])\n",
    "plt.title('5G Box Plot')"
   ]
  },
  {
   "cell_type": "code",
   "execution_count": null,
   "metadata": {},
   "outputs": [],
   "source": [
    "# HISTOGRAM\n",
    "DATA['price'].hist(bins=20, density=True, histtype='bar', align='mid', color='skyblue')\n",
    "plt.xlabel('price')\n",
    "plt.ylabel('Frequency')\n",
    "plt.title('Price Histogram')\n",
    "\n",
    "# DISTRIBUSI\n",
    "mu, std = norm.fit(DATA['price'])\n",
    "xmin, xmax = plt.xlim()\n",
    "x = np.linspace(xmin, xmax, 100)\n",
    "pdf = norm.pdf(x, mu, std)\n",
    "plt.plot(x, pdf, 'r-', linewidth=2, label='Normal Distribution')\n",
    "\n",
    "# BOXPLOT\n",
    "plt.figure()\n",
    "DATA.boxplot(column=['price'])\n",
    "plt.title('Price Box Plot')"
   ]
  },
  {
   "cell_type": "markdown",
   "metadata": {},
   "source": [
    "## 3.2 DATA NON-NUMERIK"
   ]
  },
  {
   "cell_type": "code",
   "execution_count": null,
   "metadata": {},
   "outputs": [],
   "source": [
    "# Hitung frekuensi kemunculan\n",
    "value_counts = DATA['brand'].value_counts()\n",
    "\n",
    "# Plot diagram batang\n",
    "value_counts.plot(kind=\"bar\", color='skyblue')\n",
    "\n",
    "# Tambahkan label pada sumbu-x dan sumbu-y serta judul diagram\n",
    "plt.xlabel('Brand')\n",
    "plt.ylabel('Frequency')\n",
    "plt.title('Brand Frequency')\n",
    "\n",
    "# Tampilkan jumlah tiap bar\n",
    "for index, value in enumerate(value_counts):\n",
    "    plt.text(index, value + 0.1, str(value), ha='center', va='bottom')\n",
    "\n",
    "plt.show()"
   ]
  },
  {
   "cell_type": "code",
   "execution_count": null,
   "metadata": {},
   "outputs": [],
   "source": [
    "# Hitung frekuensi kemunculan\n",
    "value_counts = DATA['grade'].value_counts()\n",
    "\n",
    "# Plot diagram batang\n",
    "value_counts.plot(kind=\"bar\", color='skyblue')\n",
    "\n",
    "# Tambahkan label pada sumbu-x dan sumbu-y serta judul diagram\n",
    "plt.xlabel('Grade')\n",
    "plt.ylabel('Frequency')\n",
    "plt.title('Grade Frequency')\n",
    "\n",
    "# Tampilkan jumlah tiap bar\n",
    "for index, value in enumerate(value_counts):\n",
    "    plt.text(index, value + 0.1, str(value), ha='center', va='bottom')\n",
    "\n",
    "plt.show()"
   ]
  }
 ],
 "metadata": {
  "kernelspec": {
   "display_name": "Python 3",
   "language": "python",
   "name": "python3"
  },
  "language_info": {
   "codemirror_mode": {
    "name": "ipython",
    "version": 3
   },
   "file_extension": ".py",
   "mimetype": "text/x-python",
   "name": "python",
   "nbconvert_exporter": "python",
   "pygments_lexer": "ipython3",
   "version": "3.12.0"
  }
 },
 "nbformat": 4,
 "nbformat_minor": 2
}
