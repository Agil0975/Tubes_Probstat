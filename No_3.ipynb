{
 "cells": [
  {
   "cell_type": "markdown",
   "metadata": {},
   "source": [
    "No. 3 \n",
    "\n",
    "Membuat Visualisasi plot distribusi. \n",
    "\n",
    "Berikan uraian penjelasan kondisi setiap kolom berdasarkan kedua plot tersebut. \n",
    "- Jika numerik dapat dibuat dalam bentuk histogram dan box plot.\n",
    "- Jika string dengan histogram. \n"
   ]
  },
  {
   "cell_type": "code",
   "execution_count": null,
   "metadata": {},
   "outputs": [],
   "source": [
    "import pandas as pd\n",
    "import matplotlib.pyplot as plt\n",
    "%run util.py"
   ]
  },
  {
   "cell_type": "code",
   "execution_count": null,
   "metadata": {},
   "outputs": [],
   "source": [
    "def deleteOutliers(data, atribut):\n",
    "    Q1 = myQ1(data, atribut)\n",
    "    Q3 = myQ3(data, atribut)\n",
    "    IQR = Q3 - Q1\n",
    "    lower_bound = Q1 - 1.5 * IQR\n",
    "    upper_bound = Q3 + 1.5 * IQR\n",
    "\n",
    "    return data[(data[atribut] >= lower_bound) & (data[atribut] <= upper_bound)]"
   ]
  },
  {
   "cell_type": "markdown",
   "metadata": {},
   "source": [
    ",,,,,,,,brand,,grade,"
   ]
  },
  {
   "cell_type": "code",
   "execution_count": null,
   "metadata": {},
   "outputs": [],
   "source": [
    "data_battery_power = deleteOutliers(DATA, 'battery_power')\n",
    "\n",
    "# Histogram\n",
    "data_battery_power['battery_power'].hist()\n",
    "plt.xlabel('battery_power')\n",
    "plt.ylabel('Frequency')\n",
    "plt.title('Battery Power Histogram')\n",
    "\n",
    "# Box Plot\n",
    "plt.figure()\n",
    "data_battery_power.boxplot(column=['battery_power'])\n",
    "plt.title('Battery Power Box Plot')"
   ]
  },
  {
   "cell_type": "code",
   "execution_count": null,
   "metadata": {},
   "outputs": [],
   "source": [
    "data_battery_power = deleteOutliers(DATA, 'clock_speed')\n",
    "\n",
    "# Histogram\n",
    "data_battery_power['clock_speed'].hist()\n",
    "plt.xlabel('clock_speed')\n",
    "plt.ylabel('Frequency')\n",
    "plt.title('Battery Power Histogram')\n",
    "\n",
    "# Box Plot\n",
    "plt.figure()\n",
    "data_battery_power.boxplot(column=['clock_speed'])\n",
    "plt.title('Battery Power Box Plot')"
   ]
  },
  {
   "cell_type": "code",
   "execution_count": null,
   "metadata": {},
   "outputs": [],
   "source": [
    "data_battery_power = deleteOutliers(DATA, 'ram')\n",
    "\n",
    "# Histogram\n",
    "data_battery_power['ram'].hist()\n",
    "plt.xlabel('ram')\n",
    "plt.ylabel('Frequency')\n",
    "plt.title('Battery Power Histogram')\n",
    "\n",
    "# Box Plot\n",
    "plt.figure()\n",
    "data_battery_power.boxplot(column=['ram'])\n",
    "plt.title('Battery Power Box Plot')"
   ]
  },
  {
   "cell_type": "code",
   "execution_count": null,
   "metadata": {},
   "outputs": [],
   "source": [
    "data_battery_power = deleteOutliers(DATA, 'n_cores')\n",
    "\n",
    "# Histogram\n",
    "data_battery_power['n_cores'].hist()\n",
    "plt.xlabel('n_cores')\n",
    "plt.ylabel('Frequency')\n",
    "plt.title('Battery Power Histogram')\n",
    "\n",
    "# Box Plot\n",
    "plt.figure()\n",
    "data_battery_power.boxplot(column=['n_cores'])\n",
    "plt.title('Battery Power Box Plot')"
   ]
  },
  {
   "cell_type": "code",
   "execution_count": null,
   "metadata": {},
   "outputs": [],
   "source": [
    "data_battery_power = deleteOutliers(DATA, 'use_time')\n",
    "\n",
    "# Histogram\n",
    "data_battery_power['use_time'].hist()\n",
    "plt.xlabel('use_time')\n",
    "plt.ylabel('Frequency')\n",
    "plt.title('Battery Power Histogram')\n",
    "\n",
    "# Box Plot\n",
    "plt.figure()\n",
    "data_battery_power.boxplot(column=['use_time'])\n",
    "plt.title('Battery Power Box Plot')"
   ]
  },
  {
   "cell_type": "code",
   "execution_count": null,
   "metadata": {},
   "outputs": [],
   "source": [
    "data_battery_power = deleteOutliers(DATA, 'px_width')\n",
    "\n",
    "# Histogram\n",
    "data_battery_power['px_width'].hist()\n",
    "plt.xlabel('px_width')\n",
    "plt.ylabel('Frequency')\n",
    "plt.title('Battery Power Histogram')\n",
    "\n",
    "# Box Plot\n",
    "plt.figure()\n",
    "data_battery_power.boxplot(column=['px_width'])\n",
    "plt.title('Battery Power Box Plot')"
   ]
  },
  {
   "cell_type": "code",
   "execution_count": null,
   "metadata": {},
   "outputs": [],
   "source": [
    "data_battery_power = deleteOutliers(DATA, 'px_height')\n",
    "\n",
    "# Histogram\n",
    "data_battery_power['px_height'].hist()\n",
    "plt.xlabel('px_height')\n",
    "plt.ylabel('Frequency')\n",
    "plt.title('Battery Power Histogram')\n",
    "\n",
    "# Box Plot\n",
    "plt.figure()\n",
    "data_battery_power.boxplot(column=['px_height'])\n",
    "plt.title('Battery Power Box Plot')"
   ]
  },
  {
   "cell_type": "code",
   "execution_count": null,
   "metadata": {},
   "outputs": [],
   "source": [
    "data_battery_power = deleteOutliers(DATA, '5g')\n",
    "\n",
    "# Histogram\n",
    "data_battery_power['5g'].hist()\n",
    "plt.xlabel('5g')\n",
    "plt.ylabel('Frequency')\n",
    "plt.title('Battery Power Histogram')\n",
    "\n",
    "# Box Plot\n",
    "plt.figure()\n",
    "data_battery_power.boxplot(column=['5g'])\n",
    "plt.title('Battery Power Box Plot')"
   ]
  },
  {
   "cell_type": "code",
   "execution_count": null,
   "metadata": {},
   "outputs": [],
   "source": [
    "data_battery_power = deleteOutliers(DATA, 'price')\n",
    "\n",
    "# Histogram\n",
    "data_battery_power['price'].hist()\n",
    "plt.xlabel('price')\n",
    "plt.ylabel('Frequency')\n",
    "plt.title('Battery Power Histogram')\n",
    "\n",
    "# Box Plot\n",
    "plt.figure()\n",
    "data_battery_power.boxplot(column=['price'])\n",
    "plt.title('Battery Power Box Plot')"
   ]
  }
 ],
 "metadata": {
  "kernelspec": {
   "display_name": "Python 3",
   "language": "python",
   "name": "python3"
  },
  "language_info": {
   "codemirror_mode": {
    "name": "ipython",
    "version": 3
   },
   "file_extension": ".py",
   "mimetype": "text/x-python",
   "name": "python",
   "nbconvert_exporter": "python",
   "pygments_lexer": "ipython3",
   "version": "3.12.0"
  }
 },
 "nbformat": 4,
 "nbformat_minor": 2
}
