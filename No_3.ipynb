{
 "cells": [
  {
   "cell_type": "markdown",
   "metadata": {},
   "source": [
    "No. 3 \n",
    "\n",
    "Membuat Visualisasi plot distribusi. \n",
    "\n",
    "Berikan uraian penjelasan kondisi setiap kolom berdasarkan kedua plot tersebut. \n",
    "- Jika numerik dapat dibuat dalam bentuk histogram dan box plot.\n",
    "- Jika string dengan histogram. \n"
   ]
  },
  {
   "cell_type": "code",
   "execution_count": null,
   "metadata": {},
   "outputs": [],
   "source": [
    "import pandas as pd\n",
    "data = pd.read_csv(\"phone.csv\")"
   ]
  }
 ],
 "metadata": {
  "language_info": {
   "name": "python"
  }
 },
 "nbformat": 4,
 "nbformat_minor": 2
}
