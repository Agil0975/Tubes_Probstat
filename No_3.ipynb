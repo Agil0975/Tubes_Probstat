{
 "cells": [
  {
   "cell_type": "markdown",
   "metadata": {},
   "source": [
    "No. 3 \n",
    "\n",
    "Membuat Visualisasi plot distribusi. \n",
    "\n",
    "Berikan uraian penjelasan kondisi setiap kolom berdasarkan kedua plot tersebut. \n",
    "- Jika numerik dapat dibuat dalam bentuk histogram dan box plot.\n",
    "- Jika string dengan histogram. \n"
   ]
  },
  {
   "cell_type": "code",
   "execution_count": null,
   "metadata": {},
   "outputs": [],
   "source": [
    "import pandas as pd\n",
    "import matplotlib.pyplot as plt\n",
    "%run util.py"
   ]
  },
  {
   "cell_type": "code",
   "execution_count": null,
   "metadata": {},
   "outputs": [],
   "source": [
    "def deleteOutliers(data, atribut):\n",
    "    Q1 = myQ1(data, atribut)\n",
    "    Q3 = myQ3(data, atribut)\n",
    "    IQR = Q3 - Q1\n",
    "    lower_bound = Q1 - 1.5 * IQR\n",
    "    upper_bound = Q3 + 1.5 * IQR\n",
    "\n",
    "    return data[(data[atribut] >= lower_bound) & (data[atribut] <= upper_bound)]"
   ]
  },
  {
   "cell_type": "code",
   "execution_count": null,
   "metadata": {},
   "outputs": [],
   "source": [
    "data_battery_power = deleteOutliers(DATA, 'battery_power')\n",
    "\n",
    "# Histogram\n",
    "data_battery_power['battery_power'].hist()\n",
    "plt.xlabel('Battery Power')\n",
    "plt.ylabel('Frequency')\n",
    "plt.title('Battery Power Histogram')\n",
    "\n",
    "# Box Plot\n",
    "plt.figure()\n",
    "data_battery_power.boxplot(column=['battery_power'])\n",
    "plt.title('Battery Power Box Plot')"
   ]
  },
  {
   "cell_type": "code",
   "execution_count": null,
   "metadata": {},
   "outputs": [],
   "source": [
    "data_clock_speed = deleteOutliers(DATA, 'clock_speed')\n",
    "\n",
    "# Histogram\n",
    "data_clock_speed['clock_speed'].hist()\n",
    "plt.xlabel('Clock Speed')\n",
    "plt.ylabel('Frequency')\n",
    "plt.title('Clock Speed Histogram')\n",
    "\n",
    "# Box Plot\n",
    "plt.figure()\n",
    "data_clock_speed.boxplot(column=['clock_speed'])\n",
    "plt.title('Clock Speed Box Plot')"
   ]
  },
  {
   "cell_type": "code",
   "execution_count": null,
   "metadata": {},
   "outputs": [],
   "source": [
    "data_ram = deleteOutliers(DATA, 'ram')\n",
    "\n",
    "# Histogram\n",
    "data_ram['ram'].hist()\n",
    "plt.xlabel('RAM')\n",
    "plt.ylabel('Frequency')\n",
    "plt.title('RAM Histogram')\n",
    "\n",
    "# Box Plot\n",
    "plt.figure()\n",
    "data_ram.boxplot(column=['ram'])\n",
    "plt.title('RAM Box Plot')"
   ]
  },
  {
   "cell_type": "code",
   "execution_count": null,
   "metadata": {},
   "outputs": [],
   "source": [
    "data_n_cores = deleteOutliers(DATA, 'n_cores')\n",
    "\n",
    "# Histogram\n",
    "data_n_cores['n_cores'].hist()\n",
    "plt.xlabel('Number of Cores')\n",
    "plt.ylabel('Frequency')\n",
    "plt.title('Number of Cores Histogram')\n",
    "\n",
    "# Box Plot\n",
    "plt.figure()\n",
    "data_n_cores.boxplot(column=['n_cores'])\n",
    "plt.title('Number of Cores Box Plot')"
   ]
  },
  {
   "cell_type": "code",
   "execution_count": null,
   "metadata": {},
   "outputs": [],
   "source": [
    "data_use_time = deleteOutliers(DATA, 'use_time')\n",
    "\n",
    "# Histogram\n",
    "data_use_time['use_time'].hist()\n",
    "plt.xlabel('Use Time')\n",
    "plt.ylabel('Frequency')\n",
    "plt.title('Use Time Histogram')\n",
    "\n",
    "# Box Plot\n",
    "plt.figure()\n",
    "data_use_time.boxplot(column=['use_time'])\n",
    "plt.title('Use Time Box Plot')"
   ]
  },
  {
   "cell_type": "code",
   "execution_count": null,
   "metadata": {},
   "outputs": [],
   "source": [
    "data_px_width = deleteOutliers(DATA, 'px_width')\n",
    "\n",
    "# Histogram\n",
    "data_px_width['px_width'].hist()\n",
    "plt.xlabel('Pixel Width')\n",
    "plt.ylabel('Frequency')\n",
    "plt.title('Pixel Width Histogram')\n",
    "\n",
    "# Box Plot\n",
    "plt.figure()\n",
    "data_px_width.boxplot(column=['px_width'])\n",
    "plt.title('Pixel Width Box Plot')"
   ]
  },
  {
   "cell_type": "code",
   "execution_count": null,
   "metadata": {},
   "outputs": [],
   "source": [
    "data_px_height = deleteOutliers(DATA, 'px_height')\n",
    "\n",
    "# Histogram\n",
    "data_px_height['px_height'].hist()\n",
    "plt.xlabel('Pixel Height')\n",
    "plt.ylabel('Frequency')\n",
    "plt.title('Pixel Height Histogram')\n",
    "\n",
    "# Box Plot\n",
    "plt.figure()\n",
    "data_px_height.boxplot(column=['px_height'])\n",
    "plt.title('Pixel Height Box Plot')"
   ]
  },
  {
   "cell_type": "code",
   "execution_count": null,
   "metadata": {},
   "outputs": [],
   "source": [
    "data_brand = DATA[DATA['brand'] != 'undefined']\n",
    "\n",
    "# Histogram\n",
    "data_brand['brand'].hist()\n",
    "plt.xlabel('Brand')\n",
    "plt.ylabel('Frequency')\n",
    "plt.title('Brand Histogram')"
   ]
  },
  {
   "cell_type": "code",
   "execution_count": null,
   "metadata": {},
   "outputs": [],
   "source": [
    "data_5g = deleteOutliers(DATA, '5g')\n",
    "\n",
    "# Histogram\n",
    "data_5g['5g'].hist()\n",
    "plt.xlabel('5g')\n",
    "plt.ylabel('Frequency')\n",
    "plt.title('5g Histogram')\n",
    "\n",
    "# Box Plot\n",
    "plt.figure()\n",
    "data_5g.boxplot(column=['5g'])\n",
    "plt.title('5g Box Plot')"
   ]
  },
  {
   "cell_type": "code",
   "execution_count": null,
   "metadata": {},
   "outputs": [],
   "source": [
    "# Histogram\n",
    "DATA['grade'].hist()\n",
    "plt.xlabel('Grade')\n",
    "plt.ylabel('Frequency')\n",
    "plt.title('Grade Histogram')"
   ]
  },
  {
   "cell_type": "code",
   "execution_count": null,
   "metadata": {},
   "outputs": [],
   "source": [
    "data_price = deleteOutliers(DATA, 'price')\n",
    "\n",
    "# Histogram\n",
    "data_price['price'].hist()\n",
    "plt.xlabel('Price')\n",
    "plt.ylabel('Frequency')\n",
    "plt.title('Price Histogram')\n",
    "\n",
    "# Box Plot\n",
    "plt.figure()\n",
    "data_price.boxplot(column=['price'])\n",
    "plt.title('Price Box Plot')"
   ]
  }
 ],
 "metadata": {
  "kernelspec": {
   "display_name": "Python 3",
   "language": "python",
   "name": "python3"
  },
  "language_info": {
   "codemirror_mode": {
    "name": "ipython",
    "version": 3
   },
   "file_extension": ".py",
   "mimetype": "text/x-python",
   "name": "python",
   "nbconvert_exporter": "python",
   "pygments_lexer": "ipython3",
   "version": "3.12.2"
  }
 },
 "nbformat": 4,
 "nbformat_minor": 2
}
