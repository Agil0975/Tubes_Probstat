{
 "cells": [
  {
   "cell_type": "markdown",
   "metadata": {},
   "source": [
    "No. 4\n",
    "\n",
    "Menentukan distribusi setiap kolom numerik menggunakan hasil visualisasi histogram. \n",
    "\n",
    "Apakah kolom tersebut berdistribusi normal? \n",
    "\n",
    "Jika bukan, terdistribusi seperti apa kolom tersebut?"
   ]
  },
  {
   "cell_type": "markdown",
   "metadata": {},
   "source": [
    "# battery_power\n",
    "Distribusi kolom battery_power mirip seperti distribusi normal, tetapi bersifat leptokurtic.  \n",
    "Distribusi ini mempunyai mean, median, dan modus yang mirip, skewness mendekati 0, serta kurtosis bernilai positif.\n",
    "\n",
    "# clock_speed\n",
    "Distribusi kolom clock_speed hampir sama dengan distribusi normal.  \n",
    "Distribusi ini mempunyai mean, median, dan modus yang mirip, skewness mendekati 0, serta kurtosis mendekati 0.\n",
    "\n",
    "# ram\n",
    "Distribusi kolom ram hampir sama dengan distribusi normal.  \n",
    "Distribusi ini mempunyai mean, median, dan modus yang mirip, skewness mendekati 0, serta kurtosis mendekati 0.\n",
    "\n",
    "# n_cores\n",
    "Distribusi kolom n_cores hampir sama dengan distribusi normal.  \n",
    "Distribusi ini mempunyai mean, median, dan modus yang mirip, skewness mendekati 0, serta kurtosis mendekati 0.\n",
    "\n",
    "# use_time\n",
    "Distribusi kolom use_time hampir sama dengan distribusi normal.  \n",
    "Distribusi ini mempunyai mean, median, dan modus yang mirip, skewness mendekati 0, serta kurtosis mendekati 0.\n",
    "\n",
    "# px_width\n",
    "Distribusi kolom px_width mirip seperti distribusi normal, tetapi bersifat positive skew.  \n",
    "Distribusi ini mempunyai mean, median, dan modus yang mirip, skewness bernilai positif, serta kurtosis mendekati 0.\n",
    "\n",
    "# px_height\n",
    "Distribusi kolom px_height mirip seperti distribusi normal, tetapi bersifat negative skew dan leptokurtic.  \n",
    "Distribusi ini mempunyai mean, median, dan modus yang mirip, skewness bernilai negatif, serta kurtosis bernilai positif.\n",
    "\n",
    "# 5g\n",
    "Distribusi kolom 5g sangat jauh dari distribusi normal dan lebih mendekati distribusi uniform.  \n",
    "Jika dilihat berdasarkan frekuensi, data tersebut cenderung tersebar cukup merata, mulai dari nilai 5g yang kecil sampai nilai 5g yang besar.\n",
    "\n",
    "# price\n",
    "Distribusi kolom price mirip seperti distribusi normal, tetapi bersifat leptokurtic.  \n",
    "Distribusi ini mempunyai mean, median, dan modus yang mirip, skewness mendekati 0, serta kurtosis bernilai positif."
   ]
  }
 ],
 "metadata": {
  "kernelspec": {
   "display_name": "Python 3",
   "language": "python",
   "name": "python3"
  },
  "language_info": {
   "codemirror_mode": {
    "name": "ipython",
    "version": 3
   },
   "file_extension": ".py",
   "mimetype": "text/x-python",
   "name": "python",
   "nbconvert_exporter": "python",
   "pygments_lexer": "ipython3",
   "version": "3.12.0"
  }
 },
 "nbformat": 4,
 "nbformat_minor": 2
}
