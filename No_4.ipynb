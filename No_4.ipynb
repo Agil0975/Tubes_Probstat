{
 "cells": [
  {
   "cell_type": "markdown",
   "metadata": {},
   "source": [
    "No. 4\n",
    "\n",
    "Menentukan distribusi setiap kolom numerik menggunakan hasil visualisasi histogram. \n",
    "\n",
    "Apakah kolom tersebut berdistribusi normal? \n",
    "\n",
    "Jika bukan, terdistribusi seperti apa kolom tersebut?"
   ]
  },
  {
   "cell_type": "code",
   "execution_count": null,
   "metadata": {},
   "outputs": [],
   "source": [
    "import pandas as pd\n",
    "data = pd.read_csv(\"phone.csv\")"
   ]
  }
 ],
 "metadata": {
  "language_info": {
   "name": "python"
  }
 },
 "nbformat": 4,
 "nbformat_minor": 2
}
