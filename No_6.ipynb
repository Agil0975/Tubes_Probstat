{
 "cells": [
  {
   "cell_type": "markdown",
   "metadata": {},
   "source": [
    "Markuis Graylee adalah seorang metuber yang membuat konten mengenai produk-produk elektronik. Untuk salah satu ide kontennya, ia ingin mereview smartphone yang telah dirilis oleh beberapa perusahaan. Sebagai pendukung penelitian kontennya, ia memiliki akses pada sebuah dataset yang berisi informasi-informasi relevan yang dapat diteliti untuk menilai produk-produk yang dirilis perusahaan. Markuis juga ingin menemukan pola-pola atau hubungan yang dimiliki oleh produk-produk tersebut agar ia dapat mengetahui tren yang ada pada dunia per-smartphone-an.\n",
    "\n",
    "Atribut: \n",
    "- battery_power\n",
    "- clock_speed\n",
    "- ram\n",
    "- n_cores\n",
    "- use_time\n",
    "- px_width\n",
    "- px_height\n",
    "- brand\n",
    "- 5g\n",
    "- grade\n",
    "- price\n",
    "\n",
    "Gunakan alpha = 0.05"
   ]
  },
  {
   "cell_type": "markdown",
   "metadata": {},
   "source": [
    "No. 6 Hipotesis 2 Sampel\n",
    "\n",
    "Markuis berasumsi setengah bagian pertama dataset adalah smartphone generasi sebelumnya dan setengah bagian terakhir adalah smartphone generasi sekarang.\n",
    "\n",
    "- Periksa apakah rata-rata jumlah core (n_cores) smartphone generasi sebelumnya sama dengan jumlah core smartphone generasi sekarang?\n",
    "- Bagaimana dengan harga smartphone, apakah harga smartphone generasi sekarang lebih mahal 100 dari generasi sebelumnya?\n",
    "- Apakah variansi dari tinggi smartphone (px_height) sama pada kedua generasi?\n",
    "- Apakah proporsi kapasitas baterai (battery_power) smartphone yang lebih dari 2030 pada smartphone generasi sebelumnya lebih besar daripada proporsi kapasitas baterai (battery_power) smartphone yang lebih dari 2030 pada smartphone generasi sekarang?"
   ]
  },
  {
   "cell_type": "code",
   "execution_count": null,
   "metadata": {},
   "outputs": [],
   "source": [
    "import pandas as pd\n",
    "import numpy as np\n",
    "import scipy.stats as stats\n",
    "from statsmodels.stats.proportion import proportions_ztest\n",
    "from statsmodels.stats.weightstats import ttest_ind\n",
    "%run util.py"
   ]
  },
  {
   "cell_type": "code",
   "execution_count": null,
   "metadata": {},
   "outputs": [],
   "source": [
    "# Mean\n",
    "def myMean2(data, atribut):\n",
    "    # mean = Σx / n\n",
    "    n = data[atribut].shape[0]\n",
    "    jumlah = 0\n",
    "    for i in range(n):\n",
    "        jumlah += data[atribut][i]\n",
    "    return jumlah/n\n",
    "\n",
    "# Variance\n",
    "def myVariance2(data, atribut):\n",
    "    # variance = Σ(x - mean)^2 / (n - 1)\n",
    "    n = data[atribut].shape[0]\n",
    "    mean = myMean2(data, atribut)\n",
    "    jumlah = 0\n",
    "    for i in range(n):\n",
    "        jumlah += (data[atribut][i] - mean) ** 2\n",
    "    return jumlah / (n - 1)"
   ]
  },
  {
   "cell_type": "code",
   "execution_count": null,
   "metadata": {},
   "outputs": [],
   "source": [
    "# Mengganti outliers dengan nilai median\n",
    "def changeOutliers(data, atribut):\n",
    "    Q1 = myQ1(data, atribut)\n",
    "    Q3 = myQ3(data, atribut)\n",
    "    IQR = Q3 - Q1\n",
    "    lower_bound = Q1 - 1.5 * IQR\n",
    "    upper_bound = Q3 + 1.5 * IQR\n",
    "\n",
    "    data.loc[(data[atribut] < lower_bound) | (data[atribut] > upper_bound), atribut] = data[atribut].median()\n",
    "    return data\n",
    "\n",
    "# Mengganti outliers dengan nilai median\n",
    "DATA = changeOutliers(DATA, \"battery_power\")\n",
    "DATA = changeOutliers(DATA, \"clock_speed\")\n",
    "DATA = changeOutliers(DATA, \"ram\")\n",
    "DATA = changeOutliers(DATA, \"n_cores\")\n",
    "DATA = changeOutliers(DATA, \"use_time\")\n",
    "DATA = changeOutliers(DATA, \"px_width\")\n",
    "DATA = changeOutliers(DATA, \"px_height\")\n",
    "DATA = changeOutliers(DATA, \"5g\")\n",
    "DATA = changeOutliers(DATA, \"price\")"
   ]
  },
  {
   "cell_type": "code",
   "execution_count": null,
   "metadata": {},
   "outputs": [],
   "source": [
    "# Pisah data smartphone generasi sebelumnya dan generasi sekarang\n",
    "n: int = DATA.shape[0]\n",
    "old_smartphone: pd.DataFrame = DATA.loc[:(n / 2 - 1)]\n",
    "new_smartphone: pd.DataFrame = DATA.loc[(n / 2):]\n",
    "new_smartphone.reset_index(drop=True, inplace=True)\n"
   ]
  },
  {
   "cell_type": "markdown",
   "metadata": {},
   "source": [
    "# 6.1 Periksa apakah rata-rata jumlah core (n_cores) smartphone generasi sebelumnya sama dengan jumlah core smartphone generasi sekarang?  "
   ]
  },
  {
   "cell_type": "markdown",
   "metadata": {},
   "source": [
    "Sebelum melakukan tes hipotesis pada rata-rata, kita perlu mengecek apakah variansi populasi dari kedua generasi sama atau tidak karena tidak diketahui informasi mengenai variansi populasi.\n",
    "\n",
    "Langkah-langkah:  \n",
    "1. Hipotesis nol:  \n",
    "   $$H_0 : σ^2_1 = σ^2_2$$  \n",
    "   $σ^2_1$: variansi populasi dari jumlah core smartphone generasi sekarang  \n",
    "   $σ^2_2$: variansi populasi dari jumlah core smartphone generasi sebelumnya  \n",
    "\n",
    "2. Hipotesis alternatif:  \n",
    "   $$H_1 : σ^2_1 ≠ σ^2_2$$  \n",
    "\n",
    "3. Tingkat signifikan:\n",
    "   $$α = 0.05$$  "
   ]
  },
  {
   "cell_type": "code",
   "execution_count": null,
   "metadata": {},
   "outputs": [],
   "source": [
    "# Tingkat signifikan\n",
    "alpha = 0.05"
   ]
  },
  {
   "cell_type": "markdown",
   "metadata": {},
   "source": [
    "4. Uji statistik:  \n",
    "   Pada kasus ini, digunakan uji hipotesis variansi pada 2 sampel.  \n",
    "   Statistik nilai-f untuk variansi 2 sampel:  \n",
    "   $$f = \\frac{s^2_1}{s^2_2}$$  \n",
    "   $s^2_1$: variansi sampel dari jumlah core smartphone generasi sekarang  \n",
    "   $s^2_2$: variansi sampel dari jumlah core smartphone generasi sebelumnya  \n",
    "\n",
    "   Daerah kritis:  \n",
    "   $$f_{critical} < f_{1-α/2}(v_1, v_2) \\: atau \\: f_{critical} > f_{α/2}(v_1, v_2)$$\n",
    "   untuk:\n",
    "   $$α = 0.05$$  \n",
    "   $$v_1 = n_1 - 1 = 1000 - 1 = 999$$  \n",
    "   $$v_2 = n_2 - 1= 1000 - 1 = 999$$  \n",
    "   $n_1$: banyak sampel dari jumlah core smartphone generasi sekarang  \n",
    "   $n_2$: banyak sampel dari jumlah core smartphone generasi sebelumnya "
   ]
  },
  {
   "cell_type": "code",
   "execution_count": null,
   "metadata": {},
   "outputs": [],
   "source": [
    "# batas daerah kritis\n",
    "print(\"batas kiri:\", stats.f.isf(1 - alpha / 2, 999, 999).round(3))\n",
    "print(\"batas kanan:\", stats.f.isf(alpha / 2, 999, 999).round(3))"
   ]
  },
  {
   "cell_type": "markdown",
   "metadata": {},
   "source": [
    "Berdasarkan nilai batas yang diperoleh, diperoleh daerah kritis:  \n",
    "$$f_{critical} < 0.883 \\: atau \\: f_{critical} > 1.132$$  "
   ]
  },
  {
   "cell_type": "markdown",
   "metadata": {},
   "source": [
    "5. Nilai uji statistik dan p-value"
   ]
  },
  {
   "cell_type": "code",
   "execution_count": null,
   "metadata": {},
   "outputs": [],
   "source": [
    "# Variansi sampel\n",
    "my_var_1 = myVariance2(new_smartphone, \"n_cores\")\n",
    "my_var_2 = myVariance2(old_smartphone, \"n_cores\")\n",
    "library_s1 = new_smartphone[\"n_cores\"].var()\n",
    "library_s2 = old_smartphone[\"n_cores\"].var()\n",
    "\n",
    "# nilai-f dan p-value\n",
    "my_f = my_var_1 / my_var_2\n",
    "my_p_value = 2 * min(stats.f.sf(my_f, 999, 999), 1 - stats.f.sf(my_f, 999, 999))\n",
    "library_f = library_s1 / library_s2\n",
    "library_p_value = 2 * min(stats.f.sf(library_f, 999, 999), 1 - stats.f.sf(library_f, 999, 999))\n",
    "print(\"my_f:\", my_f.round(3))\n",
    "print(\"my_p_value:\", my_p_value.round(3))\n",
    "print(\"library_f:\", library_f.round(3))\n",
    "print(\"library_p_value:\", library_p_value.round(3))"
   ]
  },
  {
   "cell_type": "markdown",
   "metadata": {},
   "source": [
    "6. Berdasarkan perhitungan, diperoleh:  \n",
    "   f = 0.984  \n",
    "   p-value = 0.803\n",
    "   \n",
    "   f berada di luar critical region  \n",
    "   p-value > α  \n",
    "   Oleh karena itu, $H_0$ tidak ditolak. Variansi dari jumlah core smartphone (n_cores) sama pada kedua generasi.  "
   ]
  },
  {
   "cell_type": "markdown",
   "metadata": {},
   "source": [
    "Karena kesamaan variansi sudah diketahui, kita dapat melakukan tes hipotesis untuk rata-rata"
   ]
  },
  {
   "cell_type": "markdown",
   "metadata": {},
   "source": [
    "Langkah-langkah:  \n",
    "1. Hipotesis nol:  \n",
    "   $$H_0 : μ_1 = μ_2$$  \n",
    "   $μ_1$: rata-rata populasi dari jumlah core smartphone generasi sekarang  \n",
    "   $μ_2$: rata-rata populasi dari jumlah core smartphone generasi sebelumnya  \n",
    "\n",
    "2. Hipotesis alternatif:  \n",
    "   $$H_1 : μ_1 ≠ μ_2$$  \n",
    "\n",
    "3. Tingkat signifikan:\n",
    "   $$α = 0.05$$  "
   ]
  },
  {
   "cell_type": "code",
   "execution_count": null,
   "metadata": {},
   "outputs": [],
   "source": [
    "# Tingkat signifikan\n",
    "alpha = 0.05"
   ]
  },
  {
   "cell_type": "markdown",
   "metadata": {},
   "source": [
    "4. Uji statistik:  \n",
    "   Pada kasus ini, digunakan uji hipotesis rata-rata pada 2 sampel.  \n",
    "   Statistik nilai-t untuk variansi 2 sampel:  \n",
    "   $$t = \\frac{(\\bar{x}_1 - \\bar{x}_2) - d_0}{s_p\\sqrt{\\frac{1}{n_1} + \\frac{1}{n_2}}}$$  \n",
    "   $$v = n_1 + n_2 - 2$$\n",
    "   $$s_p = \\sqrt{\\frac{(n_1 - 1) s^2_1 + (n_2 - 1) s^2_2}{n_1 + n_2 - 2}}$$\n",
    "   $s^2_1$: variansi sampel dari jumlah core smartphone generasi sekarang  \n",
    "   $s^2_2$: variansi sampel dari jumlah core smartphone generasi sebelumnya  \n",
    "\n",
    "   Daerah kritis:  \n",
    "   $$t_{critical} < -t_{α/2} \\: atau \\: t_{critical} > t_{α/2}$$\n",
    "   untuk:\n",
    "   $$α = 0.05$$  "
   ]
  },
  {
   "cell_type": "code",
   "execution_count": null,
   "metadata": {},
   "outputs": [],
   "source": [
    "# batas daerah kritis\n",
    "print(\"batas kiri:\", -stats.t.isf(alpha / 2, 1998).round(3))\n",
    "print(\"batas kanan:\", stats.t.isf(alpha / 2, 1998).round(3))"
   ]
  },
  {
   "cell_type": "markdown",
   "metadata": {},
   "source": [
    "Berdasarkan nilai batas yang diperoleh, diperoleh daerah kritis:  \n",
    "$$t_{critical} < -1.961 \\: atau \\: t_{critical} > 1.961$$  "
   ]
  },
  {
   "cell_type": "markdown",
   "metadata": {},
   "source": [
    "5. Nilai uji statistik dan p-value"
   ]
  },
  {
   "cell_type": "code",
   "execution_count": null,
   "metadata": {},
   "outputs": [],
   "source": [
    "# Rata-rata sampel\n",
    "my_xbar1 = myMean2(new_smartphone, \"n_cores\")\n",
    "my_xbar2 = myMean2(old_smartphone, \"n_cores\")\n",
    "library_xbar1 = new_smartphone[\"n_cores\"].mean()\n",
    "library_xbar2 = old_smartphone[\"n_cores\"].mean()\n",
    "\n",
    "# Variansi sampel\n",
    "my_var_1 = myVariance2(new_smartphone, \"n_cores\")\n",
    "my_var_2 = myVariance2(old_smartphone, \"n_cores\")\n",
    "library_s1 = new_smartphone[\"n_cores\"].var()\n",
    "library_s2 = old_smartphone[\"n_cores\"].var()\n",
    "\n",
    "# d0, n1, n2, v, sp\n",
    "d0 = 0\n",
    "n1 = new_smartphone[\"n_cores\"].shape[0]\n",
    "n2 = old_smartphone[\"n_cores\"].shape[0]\n",
    "v = n1 + n2 - 2\n",
    "sp = np.sqrt(((n1 - 1) * my_var_1 + (n2 - 1) * my_var_2) / v)\n",
    "\n",
    "# nilai-t dan p-value\n",
    "my_t = (my_xbar1 - my_xbar2 - d0) / (sp * np.sqrt(1 / n1 + 1 / n2))\n",
    "my_p_value = 2 * stats.t.sf(np.abs(my_t), v)\n",
    "library_t, library_p_value = stats.ttest_ind(new_smartphone[\"n_cores\"], old_smartphone[\"n_cores\"], equal_var=True, alternative=\"two-sided\")\n",
    "print(\"my_t:\", my_t.round(3))\n",
    "print(\"my_p_value:\", my_p_value.round(3))\n",
    "print(\"library_t:\", library_t.round(3))\n",
    "print(\"library_p_value:\", library_p_value.round(3))"
   ]
  },
  {
   "cell_type": "markdown",
   "metadata": {},
   "source": [
    "6. Berdasarkan perhitungan, diperoleh:  \n",
    "   t = -1.038  \n",
    "   p-value = 0.299  \n",
    "   \n",
    "   t berada di luar critical region  \n",
    "   p-value > α  \n",
    "   Oleh karena itu, $H_0$ tidak ditolak. Rata-rata dari jumlah core (n_cores) sama pada kedua generasi.  "
   ]
  },
  {
   "cell_type": "markdown",
   "metadata": {},
   "source": [
    "# 6.2 Bagaimana dengan harga smartphone, apakah harga smartphone generasi sekarang lebih mahal 100 dari generasi sebelumnya?"
   ]
  },
  {
   "cell_type": "markdown",
   "metadata": {},
   "source": [
    "Sebelum melakukan tes hipotesis pada rata-rata, kita perlu mengecek apakah variansi populasi dari kedua generasi sama atau tidak karena tidak diketahui informasi mengenai variansi populasi.\n",
    "\n",
    "Langkah-langkah:  \n",
    "1. Hipotesis nol:  \n",
    "   $$H_0 : σ^2_1 = σ^2_2$$  \n",
    "   $σ^2_1$: variansi populasi dari harga smartphone generasi sekarang  \n",
    "   $σ^2_2$: variansi populasi dari harga smartphone generasi sebelumnya  \n",
    "\n",
    "2. Hipotesis alternatif:  \n",
    "   $$H_1 : σ^2_1 ≠ σ^2_2$$  \n",
    "\n",
    "3. Tingkat signifikan:\n",
    "   $$α = 0.05$$  "
   ]
  },
  {
   "cell_type": "code",
   "execution_count": null,
   "metadata": {},
   "outputs": [],
   "source": [
    "# Tingkat signifikan\n",
    "alpha = 0.05"
   ]
  },
  {
   "cell_type": "markdown",
   "metadata": {},
   "source": [
    "4. Uji statistik:  \n",
    "   Pada kasus ini, digunakan uji hipotesis variansi pada 2 sampel.  \n",
    "   Statistik nilai-f untuk variansi 2 sampel:  \n",
    "   $$f = \\frac{s^2_1}{s^2_2}$$  \n",
    "   $s^2_1$: variansi sampel dari harga smartphone generasi sekarang  \n",
    "   $s^2_2$: variansi sampel dari harga smartphone generasi sebelumnya  \n",
    "\n",
    "   Daerah kritis:  \n",
    "   $$f_{critical} < f_{1-α/2}(v_1, v_2) \\: atau \\: f_{critical} > f_{α/2}(v_1, v_2)$$\n",
    "   untuk:\n",
    "   $$α = 0.05$$  \n",
    "   $$v_1 = n_1 - 1 = 1000 - 1 = 999$$  \n",
    "   $$v_2 = n_2 - 1= 1000 - 1 = 999$$  \n",
    "   $n_1$: banyak sampel dari harga smartphone generasi sekarang  \n",
    "   $n_2$: banyak sampel dari harga smartphone generasi sebelumnya "
   ]
  },
  {
   "cell_type": "code",
   "execution_count": null,
   "metadata": {},
   "outputs": [],
   "source": [
    "# batas daerah kritis\n",
    "print(\"batas kiri:\", stats.f.isf(1 - alpha / 2, 999, 999).round(3))\n",
    "print(\"batas kanan:\", stats.f.isf(alpha / 2, 999, 999).round(3))"
   ]
  },
  {
   "cell_type": "markdown",
   "metadata": {},
   "source": [
    "Berdasarkan nilai batas yang diperoleh, diperoleh daerah kritis:  \n",
    "$$f_{critical} < 0.883 \\: atau \\: f_{critical} > 1.132$$  "
   ]
  },
  {
   "cell_type": "markdown",
   "metadata": {},
   "source": [
    "5. Nilai uji statistik dan p-value"
   ]
  },
  {
   "cell_type": "code",
   "execution_count": null,
   "metadata": {},
   "outputs": [],
   "source": [
    "# Variansi sampel\n",
    "my_var_1 = myVariance2(new_smartphone, \"price\")\n",
    "my_var_2 = myVariance2(old_smartphone, \"price\")\n",
    "library_s1 = new_smartphone[\"price\"].var()\n",
    "library_s2 = old_smartphone[\"price\"].var()\n",
    "\n",
    "# nilai-f dan p-value\n",
    "my_f = my_var_1 / my_var_2\n",
    "my_p_value = 2 * min(stats.f.sf(my_f, 999, 999), 1 - stats.f.sf(my_f, 999, 999))\n",
    "library_f = library_s1 / library_s2\n",
    "library_p_value = 2 * min(stats.f.sf(library_f, 999, 999), 1 - stats.f.sf(library_f, 999, 999))\n",
    "print(\"my_f:\", my_f.round(3))\n",
    "print(\"my_p_value:\", my_p_value.round(3))\n",
    "print(\"library_f:\", library_f.round(3))\n",
    "print(\"library_p_value:\", library_p_value.round(3))"
   ]
  },
  {
   "cell_type": "markdown",
   "metadata": {},
   "source": [
    "6. Berdasarkan perhitungan, diperoleh:  \n",
    "   f = 1.018  \n",
    "   p-value = 0.775\n",
    "   \n",
    "   f berada di luar critical region  \n",
    "   p-value > α  \n",
    "   Oleh karena itu, $H_0$ tidak ditolak. Variansi dari jumlah core smartphone (n_cores) sama pada kedua generasi.  "
   ]
  },
  {
   "cell_type": "markdown",
   "metadata": {},
   "source": [
    "Karena kesamaan variansi sudah diketahui, kita dapat melakukan tes hipotesis untuk rata-rata"
   ]
  },
  {
   "cell_type": "markdown",
   "metadata": {},
   "source": [
    "Langkah-langkah:  \n",
    "1. Hipotesis nol:  \n",
    "   $$H_0 : μ_1 - μ_2 = 100$$  \n",
    "   $μ_1$: rata-rata populasi dari harga smartphone generasi sekarang  \n",
    "   $μ_2$: rata-rata populasi dari harga smartphone generasi sebelumnya  \n",
    "\n",
    "2. Hipotesis alternatif:  \n",
    "   $$H_1 : μ_1 - μ_2 ≠ 100$$  \n",
    "\n",
    "3. Tingkat signifikan:\n",
    "   $$α = 0.05$$  "
   ]
  },
  {
   "cell_type": "code",
   "execution_count": null,
   "metadata": {},
   "outputs": [],
   "source": [
    "# Tingkat signifikan\n",
    "alpha = 0.05"
   ]
  },
  {
   "cell_type": "markdown",
   "metadata": {},
   "source": [
    "4. Uji statistik:  \n",
    "   Pada kasus ini, digunakan uji hipotesis rata-rata pada 2 sampel.  \n",
    "   Statistik nilai-t untuk variansi 2 sampel:  \n",
    "   $$t = \\frac{(\\bar{x}_1 - \\bar{x}_2) - d_0}{s_p\\sqrt{\\frac{1}{n_1} + \\frac{1}{n_2}}}$$  \n",
    "   $$v = n_1 + n_2 - 2$$\n",
    "   $$s_p = \\sqrt{\\frac{(n_1 - 1) s^2_1 + (n_2 - 1) s^2_2}{n_1 + n_2 - 2}}$$\n",
    "   $s^2_1$: variansi sampel dari harga smartphone generasi sekarang  \n",
    "   $s^2_2$: variansi sampel dari harga smartphone generasi sebelumnya  \n",
    "\n",
    "   Daerah kritis:  \n",
    "   $$t_{critical} < -t_{α/2} \\: atau \\: t_{critical} > t_{α/2}$$\n",
    "   untuk:\n",
    "   $$α = 0.05$$  "
   ]
  },
  {
   "cell_type": "code",
   "execution_count": null,
   "metadata": {},
   "outputs": [],
   "source": [
    "# batas daerah kritis\n",
    "print(\"batas kiri:\", -stats.t.isf(alpha / 2, 1998).round(3))\n",
    "print(\"batas kanan:\", stats.t.isf(alpha / 2, 1998).round(3))"
   ]
  },
  {
   "cell_type": "markdown",
   "metadata": {},
   "source": [
    "Berdasarkan nilai batas yang diperoleh, diperoleh daerah kritis:  \n",
    "$$t_{critical} < -1.961 \\: atau \\: t_{critical} > 1.961$$  "
   ]
  },
  {
   "cell_type": "markdown",
   "metadata": {},
   "source": [
    "5. Nilai uji statistik dan p-value"
   ]
  },
  {
   "cell_type": "code",
   "execution_count": null,
   "metadata": {},
   "outputs": [],
   "source": [
    "# Rata-rata sampel\n",
    "my_xbar1 = myMean2(new_smartphone, \"price\")\n",
    "my_xbar2 = myMean2(old_smartphone, \"price\")\n",
    "library_xbar1 = new_smartphone[\"price\"].mean()\n",
    "library_xbar2 = old_smartphone[\"price\"].mean()\n",
    "print(\"my_xbar1:\", my_xbar1.round(3))\n",
    "print(\"my_xbar2:\", my_xbar2.round(3))\n",
    "print(\"library_xbar1:\", library_xbar1.round(3))\n",
    "print(\"library_xbar2:\", library_xbar2.round(3))\n",
    "\n",
    "# Variansi sampel\n",
    "my_var_1 = myVariance2(new_smartphone, \"price\")\n",
    "my_var_2 = myVariance2(old_smartphone, \"price\")\n",
    "library_s1 = new_smartphone[\"price\"].var()\n",
    "library_s2 = old_smartphone[\"price\"].var()\n",
    "\n",
    "# d0, n1, n2, v, sp\n",
    "d0 = 100\n",
    "n1 = new_smartphone[\"price\"].shape[0]\n",
    "n2 = old_smartphone[\"price\"].shape[0]\n",
    "v = n1 + n2 - 2\n",
    "sp = np.sqrt(((n1 - 1) * my_var_1 + (n2 - 1) * my_var_2) / v)\n",
    "\n",
    "# nilai-t dan p-value\n",
    "my_t = (my_xbar1 - my_xbar2 - d0) / (sp * np.sqrt(1 / n1 + 1 / n2))\n",
    "my_p_value = 2 * stats.t.sf(np.abs(my_t), v)\n",
    "library_t, library_p_value = stats.ttest_ind(new_smartphone[\"price\"] - d0, old_smartphone[\"price\"], equal_var=True, alternative=\"two-sided\")\n",
    "print(\"my_t:\", my_t.round(3))\n",
    "print(\"my_p_value:\", my_p_value.round(3))\n",
    "print(\"library_t:\", library_t.round(3))\n",
    "print(\"library_p_value:\", library_p_value.round(3))"
   ]
  },
  {
   "cell_type": "markdown",
   "metadata": {},
   "source": [
    "6. Berdasarkan perhitungan, diperoleh:  \n",
    "   t = -1.196  \n",
    "   p-value = 0.232  \n",
    "   \n",
    "   t berada di luar critical region  \n",
    "   p-value > α  \n",
    "   Oleh karena itu, $H_0$ tidak ditolak. Rata-rata harga (price) smartphone generasi sekarang lebih mahal 100 dari generasi sebelumnya.  "
   ]
  },
  {
   "cell_type": "markdown",
   "metadata": {},
   "source": [
    "# 6.3 Apakah variansi dari tinggi smartphone (px_height) sama pada kedua generasi?"
   ]
  },
  {
   "cell_type": "markdown",
   "metadata": {},
   "source": [
    "Langkah-langkah:  \n",
    "1. Hipotesis nol:  \n",
    "   $$H_0 : σ^2_1 = σ^2_2$$  \n",
    "   $σ^2_1$: variansi populasi dari tinggi smartphone generasi sekarang  \n",
    "   $σ^2_2$: variansi populasi dari tinggi smartphone generasi sebelumnya  \n",
    "\n",
    "2. Hipotesis alternatif:  \n",
    "   $$H_1 : σ^2_1 ≠ σ^2_2$$  \n",
    "\n",
    "3. Tingkat signifikan:\n",
    "   $$α = 0.05$$  "
   ]
  },
  {
   "cell_type": "code",
   "execution_count": null,
   "metadata": {},
   "outputs": [],
   "source": [
    "# Tingkat signifikan\n",
    "alpha = 0.05"
   ]
  },
  {
   "cell_type": "markdown",
   "metadata": {},
   "source": [
    "4. Uji statistik:  \n",
    "   Pada kasus ini, digunakan uji hipotesis variansi pada 2 sampel.  \n",
    "   Statistik nilai-f untuk variansi 2 sampel:  \n",
    "   $$f = \\frac{s^2_1}{s^2_2}$$  \n",
    "   $s^2_1$: variansi sampel dari tinggi smartphone generasi sekarang  \n",
    "   $s^2_2$: variansi sampel dari tinggi smartphone generasi sebelumnya  \n",
    "\n",
    "   Daerah kritis:  \n",
    "   $$f_{critical} < f_{1-α/2}(v_1, v_2) \\: atau \\: f_{critical} > f_{α/2}(v_1, v_2)$$\n",
    "   untuk:\n",
    "   $$α = 0.05$$  \n",
    "   $$v_1 = n_1 - 1 = 1000 - 1 = 999$$  \n",
    "   $$v_2 = n_2 - 1= 1000 - 1 = 999$$  \n",
    "   $n_1$: banyak sampel dari tinggi smartphone generasi sekarang  \n",
    "   $n_2$: banyak sampel dari tinggi smartphone generasi sebelumnya "
   ]
  },
  {
   "cell_type": "code",
   "execution_count": null,
   "metadata": {},
   "outputs": [],
   "source": [
    "# batas daerah kritis\n",
    "print(\"batas kiri:\", stats.f.isf(1 - alpha / 2, 999, 999).round(3))\n",
    "print(\"batas kanan:\", stats.f.isf(alpha / 2, 999, 999).round(3))"
   ]
  },
  {
   "cell_type": "markdown",
   "metadata": {},
   "source": [
    "Berdasarkan nilai batas yang diperoleh, diperoleh daerah kritis:  \n",
    "$$f_{critical} < 0.883 \\: atau \\: f_{critical} > 1.132$$  "
   ]
  },
  {
   "cell_type": "markdown",
   "metadata": {},
   "source": [
    "5. Nilai uji statistik dan p-value"
   ]
  },
  {
   "cell_type": "code",
   "execution_count": null,
   "metadata": {},
   "outputs": [],
   "source": [
    "# Variansi sampel\n",
    "my_var_1 = myVariance2(new_smartphone, \"px_height\")\n",
    "my_var_2 = myVariance2(old_smartphone, \"px_height\")\n",
    "library_s1 = new_smartphone[\"px_height\"].var()\n",
    "library_s2 = old_smartphone[\"px_height\"].var()\n",
    "\n",
    "# nilai-f dan p-value\n",
    "my_f = my_var_1 / my_var_2\n",
    "my_p_value = 2 * min(stats.f.sf(my_f, 999, 999), 1 - stats.f.sf(my_f, 999, 999))\n",
    "library_f = library_s1 / library_s2\n",
    "library_p_value = 2 * min(stats.f.sf(library_f, 999, 999), 1 - stats.f.sf(library_f, 999, 999))\n",
    "print(\"my_f:\", my_f.round(3))\n",
    "print(\"my_p_value:\", my_p_value.round(3))\n",
    "print(\"library_f:\", library_f.round(3))\n",
    "print(\"library_p_value:\", library_p_value.round(3))"
   ]
  },
  {
   "cell_type": "markdown",
   "metadata": {},
   "source": [
    "6. Berdasarkan perhitungan, diperoleh:  \n",
    "   f = 0.951  \n",
    "   p-value = 0.428\n",
    "   \n",
    "   f berada di luar critical region  \n",
    "   p-value > α  \n",
    "   Oleh karena itu, $H_0$ tidak ditolak. Variansi dari tinggi smartphone (px_height) sama pada kedua generasi.  "
   ]
  },
  {
   "cell_type": "markdown",
   "metadata": {},
   "source": [
    "# 6.4 Apakah proporsi kapasitas baterai (battery_power) smartphone yang lebih dari 2030 pada smartphone generasi sebelumnya lebih besar daripada proporsi kapasitas baterai (battery_power) smartphone yang lebih dari 2030 pada smartphone generasi sekarang?"
   ]
  },
  {
   "cell_type": "markdown",
   "metadata": {},
   "source": [
    "Langkah-langkah:  \n",
    "1. Hipotesis nol:  \n",
    "   $$H_0 : p_1 = p_2$$  \n",
    "   $p_1$: proporsi populasi dari kapasitas baterai smartphone yang lebih dari 2030 pada smartphone generasi sekarang  \n",
    "   $p_2$: proporsi populasi dari kapasitas baterai smartphone yang lebih dari 2030 pada smartphone generasi sebelumnya  \n",
    "\n",
    "2. Hipotesis alternatif:  \n",
    "   $$H_1 : p_1 < p_2$$  \n",
    "\n",
    "3. Tingkat signifikan:\n",
    "   $$α = 0.05$$  "
   ]
  },
  {
   "cell_type": "code",
   "execution_count": null,
   "metadata": {},
   "outputs": [],
   "source": [
    "# Tingkat signifikan\n",
    "alpha = 0.05"
   ]
  },
  {
   "cell_type": "markdown",
   "metadata": {},
   "source": [
    "4. Uji statistik:  \n",
    "   Pada kasus ini, digunakan uji hipotesis proporsi pada 2 sampel.  \n",
    "   Statistik nilai-z untuk variansi 2 sampel:  \n",
    "   $$z = \\frac{\\hat{p_1} - \\hat{p_2}}{\\sqrt{\\hat{p}\\hat{q}(\\frac{1}{n_1} + \\frac{1}{n_2})}}$$  \n",
    "   $$\\hat{p} = \\frac{x_1 + x_2}{n_1 + n_2}$$\n",
    "   $$\\hat{q} = 1 - \\hat{p}$$\n",
    "   $\\hat{p_1}$: proporsi sampel dari kapasitas baterai smartphone yang lebih dari 2030 pada smartphone generasi sekarang  \n",
    "   $\\hat{p_2}$: proporsi sampel dari kapasitas baterai smartphone yang lebih dari 2030 pada smartphone generasi sekarang  \n",
    "   $x_1$: banyak sampel dari kapasitas baterai smartphone yang lebih dari 2030 pada smartphone generasi sekarang  \n",
    "   $x_2$: banyak sampel dari kapasitas baterai smartphone yang lebih dari 2030 pada smartphone generasi sebelumnya  \n",
    "   $n_1$: banyak sampel smartphone generasi sekarang  \n",
    "   $n_2$: banyak sampel smartphone generasi sebelumnya  \n",
    "\n",
    "   Daerah kritis:  \n",
    "   $$z_{critical} < -z_α$$\n",
    "   untuk:\n",
    "   $$α = 0.05$$  "
   ]
  },
  {
   "cell_type": "code",
   "execution_count": null,
   "metadata": {},
   "outputs": [],
   "source": [
    "# batas daerah kritis\n",
    "print(\"batas kiri:\", -stats.norm.isf(alpha).round(3))"
   ]
  },
  {
   "cell_type": "markdown",
   "metadata": {},
   "source": [
    "Berdasarkan nilai batas yang diperoleh, diperoleh daerah kritis:  \n",
    "$$z_{critical} < -1.645$$  "
   ]
  },
  {
   "cell_type": "markdown",
   "metadata": {},
   "source": [
    "5. Nilai uji statistik dan P-value"
   ]
  },
  {
   "cell_type": "code",
   "execution_count": null,
   "metadata": {},
   "outputs": [],
   "source": [
    "# Ambil semua data battery_power\n",
    "new_battery_power: pd.Series = new_smartphone[\"battery_power\"]\n",
    "old_battery_power: pd.Series = old_smartphone[\"battery_power\"]\n",
    "\n",
    "# Ambil data battery_power yang lebih dari 2030\n",
    "new_battery_power_2030: pd.Series = new_battery_power[new_battery_power > 2030]\n",
    "old_battery_power_2030: pd.Series = old_battery_power[old_battery_power > 2030]\n",
    "\n",
    "# n1, n2, p1, p2, p, q\n",
    "x1 = new_battery_power_2030.shape[0]\n",
    "x2 = old_battery_power_2030.shape[0]\n",
    "n1 = new_battery_power.shape[0]\n",
    "n2 = old_battery_power.shape[0]\n",
    "p1 = x1 / n1\n",
    "p2 = x2 / n2\n",
    "p = (x1 + x2) / (n1 + n2)\n",
    "q = 1 - p\n",
    "\n",
    "# nilai-z dan p-value\n",
    "my_z = (p1 - p2) / np.sqrt(p * q * (1 / n1 + 1 / n2))\n",
    "my_p_value = stats.norm.cdf(my_z)\n",
    "library_z, library_p_value = proportions_ztest([x1, x2], [n1, n2], alternative=\"smaller\")\n",
    "print(\"my_z:\", my_z.round(3))\n",
    "print(\"my_p_value:\", my_p_value.round(3))\n",
    "print(\"library_z:\", library_z.round(3))\n",
    "print(\"library_p_value:\", library_p_value.round(3))\n"
   ]
  },
  {
   "cell_type": "markdown",
   "metadata": {},
   "source": [
    "6. Berdasarkan perhitungan, diperoleh:  \n",
    "   z = 0.614  \n",
    "   p-value = 0.731\n",
    "   \n",
    "   z berada di luar critical region  \n",
    "   p-value > α  \n",
    "   Oleh karena itu, $H_0$ tidak ditolak. Proporsi kapasitas baterai (battery_power) smartphone yang lebih dari 2030 pada smartphone generasi sebelumnya sama dengan proporsi kapasitas baterai (battery_power) smartphone yang lebih dari 2030 pada smartphone generasi sekarang.  "
   ]
  }
 ],
 "metadata": {
  "kernelspec": {
   "display_name": "Python 3",
   "language": "python",
   "name": "python3"
  },
  "language_info": {
   "codemirror_mode": {
    "name": "ipython",
    "version": 3
   },
   "file_extension": ".py",
   "mimetype": "text/x-python",
   "name": "python",
   "nbconvert_exporter": "python",
   "pygments_lexer": "ipython3",
   "version": "3.12.2"
  }
 },
 "nbformat": 4,
 "nbformat_minor": 2
}
